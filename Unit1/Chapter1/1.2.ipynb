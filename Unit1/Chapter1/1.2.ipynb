{
 "cells": [
  {
   "cell_type": "code",
   "execution_count": 17,
   "id": "fe099e45-edc1-44da-8371-ac0d0c0ccfc7",
   "metadata": {},
   "outputs": [
    {
     "name": "stdout",
     "output_type": "stream",
     "text": [
      "1 + 1 = 2\n",
      "2 - 1 = 1\n",
      "3 * 3 = 9\n",
      "4 / 2 = 2.0\n",
      "11 // 2 = 5\n",
      "9 % 2 = 1\n",
      "2 ** 2 = 4\n"
     ]
    }
   ],
   "source": [
    "print(\"1 + 1 =\", 1 + 1)\n",
    "print(\"2 - 1 =\", 2 - 1)\n",
    "print(\"3 * 3 =\", 3 * 3)\n",
    "print(\"4 / 2 =\", 4 / 2)\n",
    "print(\"11 // 2 =\", 11 // 2)\n",
    "print('9 % 2 =', 9 % 2)\n",
    "print('2 ** 2 =', 2 ** 2)"
   ]
  },
  {
   "cell_type": "code",
   "execution_count": 19,
   "id": "850bac6a-f600-435f-9bca-2cc1467e39d1",
   "metadata": {},
   "outputs": [],
   "source": [
    "num = 1 + 2 *3"
   ]
  },
  {
   "cell_type": "code",
   "execution_count": 21,
   "id": "75823fed-9585-4a35-956e-6c445369ac58",
   "metadata": {},
   "outputs": [
    {
     "name": "stdout",
     "output_type": "stream",
     "text": [
      "num += 1: 2\n",
      "num -= 1: 1\n",
      "num *= 4: 4\n",
      "num /= 2: 2.0\n",
      "num %= 2: 1\n",
      "num **= 2: 1\n",
      "num //= 2: 4\n"
     ]
    }
   ],
   "source": [
    "num = 1\n",
    "num += 1\n",
    "print('num += 1:', num)\n",
    "\n",
    "num -= 1\n",
    "print('num -= 1:', num)\n",
    "\n",
    "num *= 4\n",
    "print('num *= 4:', num)\n",
    "\n",
    "num /= 2\n",
    "print('num /= 2:', num)\n",
    "\n",
    "num = 3\n",
    "num %= 2\n",
    "print('num %= 2:', num)\n",
    "\n",
    "num **= 2\n",
    "print('num **= 2:', num)\n",
    "\n",
    "num = 9\n",
    "num //= 2\n",
    "print('num //= 2:', num)"
   ]
  },
  {
   "cell_type": "code",
   "execution_count": null,
   "id": "89056ce1-77e6-49d7-b0eb-be2098ae7a09",
   "metadata": {},
   "outputs": [],
   "source": []
  }
 ],
 "metadata": {
  "kernelspec": {
   "display_name": "Python 3 (ipykernel)",
   "language": "python",
   "name": "python3"
  },
  "language_info": {
   "codemirror_mode": {
    "name": "ipython",
    "version": 3
   },
   "file_extension": ".py",
   "mimetype": "text/x-python",
   "name": "python",
   "nbconvert_exporter": "python",
   "pygments_lexer": "ipython3",
   "version": "3.11.5"
  }
 },
 "nbformat": 4,
 "nbformat_minor": 5
}
