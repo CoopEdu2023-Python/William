{
 "cells": [
  {
   "cell_type": "code",
   "execution_count": 1,
   "id": "a8dae00a-d9ce-4e86-b0ee-dae6c3c6ce9b",
   "metadata": {},
   "outputs": [
    {
     "name": "stdout",
     "output_type": "stream",
     "text": [
      "8\n"
     ]
    }
   ],
   "source": [
    "name = \"asdfghkj\"\n",
    "print (len(name))"
   ]
  },
  {
   "cell_type": "code",
   "execution_count": 6,
   "id": "d56735cb-6d2b-420b-8efe-32ed4affc823",
   "metadata": {},
   "outputs": [
    {
     "name": "stdout",
     "output_type": "stream",
     "text": [
      "字符串asdfdsf长度为7\n",
      "字符串afyeyuuuu长度为9\n",
      "字符串awucxnnhxn长度为10\n"
     ]
    }
   ],
   "source": [
    "str1 = \"asdfdsf\"\n",
    "str2 = \"afyeyuuuu\"\n",
    "str3 = \"awucxnnhxn\"\n",
    "j = 0\n",
    "for i in str1:\n",
    "    j += 1\n",
    "print(f\"字符串{str1}长度为{j}\")\n",
    "j = 0\n",
    "for i in str2:\n",
    "    j += 1\n",
    "print(f\"字符串{str2}长度为{j}\")\n",
    "j = 0\n",
    "for i in str3:\n",
    "    j += 1\n",
    "print(f\"字符串{str3}长度为{j}\")"
   ]
  },
  {
   "cell_type": "code",
   "execution_count": 10,
   "id": "24f65365-3aef-4c21-8471-82a2702cad8a",
   "metadata": {},
   "outputs": [
    {
     "name": "stdout",
     "output_type": "stream",
     "text": [
      "字符串asdfdsf长度为7\n",
      "字符串afyeyuuuu长度为9\n",
      "字符串awucxnnhxn长度为10\n"
     ]
    }
   ],
   "source": [
    "def my_len(data):\n",
    "    j = 0\n",
    "    for i in data:\n",
    "        j += 1\n",
    "    print(f\"字符串{data}长度为{j}\")\n",
    "\n",
    "str1 = \"asdfdsf\"\n",
    "str2 = \"afyeyuuuu\"\n",
    "str3 = \"awucxnnhxn\"\n",
    "\n",
    "my_len(str1)\n",
    "my_len(str2)\n",
    "my_len(str3)"
   ]
  },
  {
   "cell_type": "code",
   "execution_count": 11,
   "id": "7d94095d-276b-434e-94cc-66ef916d5125",
   "metadata": {},
   "outputs": [
    {
     "name": "stdout",
     "output_type": "stream",
     "text": [
      "我是wzhr\n"
     ]
    }
   ],
   "source": [
    "def h():\n",
    "    print(\"我是wzhr\")\n",
    "h()"
   ]
  },
  {
   "cell_type": "code",
   "execution_count": 14,
   "id": "a3bfd797-a121-4dd1-81f0-54fb106bfb90",
   "metadata": {},
   "outputs": [
    {
     "name": "stdout",
     "output_type": "stream",
     "text": [
      "1+2=3\n"
     ]
    }
   ],
   "source": [
    "def add(Y, X):\n",
    "    z = Y + X\n",
    "    print(f\"{Y}+{X}={z}\")\n",
    "\n",
    "add(1,2)"
   ]
  },
  {
   "cell_type": "code",
   "execution_count": 15,
   "id": "5df4f4ca-e9a7-4955-8e68-d91cb131bc31",
   "metadata": {},
   "outputs": [
    {
     "name": "stdout",
     "output_type": "stream",
     "text": [
      "1+2+3=6\n"
     ]
    }
   ],
   "source": [
    "def add(Y, X, V):\n",
    "    z = Y + X + V\n",
    "    print(f\"{Y}+{X}+{V}={z}\")\n",
    "\n",
    "add(1,2,3)"
   ]
  },
  {
   "cell_type": "code",
   "execution_count": 18,
   "id": "b85f2840-3f10-4ab2-bdb5-f2e7361ac8a9",
   "metadata": {},
   "outputs": [
    {
     "name": "stdout",
     "output_type": "stream",
     "text": [
      "3\n"
     ]
    }
   ],
   "source": [
    "def add(Y, X):\n",
    "    z = Y + X\n",
    "    return z\n",
    "\n",
    "print(add(1, 2))"
   ]
  },
  {
   "cell_type": "code",
   "execution_count": null,
   "id": "c62e766c-8059-4970-a8b1-d12a25993da4",
   "metadata": {},
   "outputs": [],
   "source": []
  }
 ],
 "metadata": {
  "kernelspec": {
   "display_name": "Python 3 (ipykernel)",
   "language": "python",
   "name": "python3"
  },
  "language_info": {
   "codemirror_mode": {
    "name": "ipython",
    "version": 3
   },
   "file_extension": ".py",
   "mimetype": "text/x-python",
   "name": "python",
   "nbconvert_exporter": "python",
   "pygments_lexer": "ipython3",
   "version": "3.11.5"
  }
 },
 "nbformat": 4,
 "nbformat_minor": 5
}
