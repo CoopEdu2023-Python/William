{
 "cells": [
  {
   "cell_type": "code",
   "execution_count": 2,
   "id": "484fe724-9daf-4242-a249-12f9a52cf7a0",
   "metadata": {},
   "outputs": [
    {
     "name": "stdout",
     "output_type": "stream",
     "text": [
      "['123', 'sdaf', 666, True]\n",
      "<class 'list'>\n"
     ]
    }
   ],
   "source": [
    "my_list = ['123', 'sdaf', 666, True]\n",
    "print(my_list)\n",
    "print(type(my_list))"
   ]
  },
  {
   "cell_type": "code",
   "execution_count": 4,
   "id": "cc07170c-a334-49a8-90b8-acc894610b02",
   "metadata": {},
   "outputs": [
    {
     "name": "stdout",
     "output_type": "stream",
     "text": [
      "[[1, 2, 3], ['asd', 123, True], 123]\n",
      "<class 'list'>\n"
     ]
    }
   ],
   "source": [
    "my_list = [[1, 2, 3], ['asd', 123, True], 123]\n",
    "print(my_list)\n",
    "print(type(my_list))"
   ]
  },
  {
   "cell_type": "code",
   "execution_count": 6,
   "id": "f87c44a3-8301-4b51-9a6f-c61ca58caf0b",
   "metadata": {},
   "outputs": [
    {
     "name": "stdout",
     "output_type": "stream",
     "text": [
      "asd\n",
      "sdf\n",
      "dfg\n",
      "dfg\n",
      "sdf\n",
      "asd\n",
      "asd\n"
     ]
    }
   ],
   "source": [
    "my_list = ['asd', 'sdf', 'dfg']\n",
    "print(my_list[0])\n",
    "print(my_list[1])\n",
    "print(my_list[2])\n",
    "\n",
    "print(my_list[-1])\n",
    "print(my_list[-2])\n",
    "print(my_list[-3])\n",
    "\n",
    "my_list = [[1, 2, 3], ['asd', 123, True], 123]\n",
    "print(my_list[1][0]) \n"
   ]
  },
  {
   "cell_type": "code",
   "execution_count": 14,
   "id": "2c5543ba-8698-478e-9474-80b8ee475341",
   "metadata": {},
   "outputs": [
    {
     "name": "stdout",
     "output_type": "stream",
     "text": [
      "0\n",
      "['as', 'sdf', 'dfg']\n",
      "['as', 'sdfqwe', 'sdf', 'dfg']\n",
      "['as', 'sdfqwe', 'sdf', 'dfg', 'asdfhjkl;']\n",
      "['as', 'sdfqwe', 'sdf', 'dfg', 'asdfhjkl;', 1, 2, 3]\n"
     ]
    }
   ],
   "source": [
    "my_list = ['asd', 'sdf', 'dfg']\n",
    "print(my_list.index('asd'))\n",
    "# print(my_list.index('as'))\n",
    "my_list[0] = 'as'\n",
    "print(my_list)\n",
    "my_list.insert(1,'sdfqwe')\n",
    "print(my_list)\n",
    "my_list.append('asdfhjkl;')\n",
    "print(my_list)\n",
    "my_list2 = [1, 2, 3]\n",
    "my_list.extend(my_list2)\n",
    "print(my_list)"
   ]
  },
  {
   "cell_type": "code",
   "execution_count": 21,
   "id": "dbbd5be0-1070-4e6a-afef-92dba83b185d",
   "metadata": {},
   "outputs": [
    {
     "name": "stdout",
     "output_type": "stream",
     "text": [
      "['sdf', 'dfg']\n",
      "dfg ['sdf']\n"
     ]
    }
   ],
   "source": [
    "my_list = ['asd', 'sdf', 'dfg']\n",
    "del my_list[0]\n",
    "print(my_list)\n",
    "print(my_list.pop(1), my_list)"
   ]
  },
  {
   "cell_type": "code",
   "execution_count": 18,
   "id": "4a77c16c-3d0e-4cf9-b2e9-3a6c91d75d2a",
   "metadata": {},
   "outputs": [
    {
     "name": "stdout",
     "output_type": "stream",
     "text": [
      "['sdf', 'dfg', 'asd']\n",
      "[]\n"
     ]
    }
   ],
   "source": [
    "my_list = ['asd', 'sdf', 'dfg', 'asd']\n",
    "my_list.remove('asd')\n",
    "print(my_list)\n",
    "my_list.clear()\n",
    "print(my_list)"
   ]
  },
  {
   "cell_type": "code",
   "execution_count": 20,
   "id": "1f76eb83-f408-4522-8f3b-41165da3b071",
   "metadata": {},
   "outputs": [
    {
     "name": "stdout",
     "output_type": "stream",
     "text": [
      "2\n",
      "4\n"
     ]
    }
   ],
   "source": [
    "my_list = ['asd', 'sdf', 'dfg', 'asd']\n",
    "print(my_list.count('asd'))\n",
    "print(len(my_list))"
   ]
  },
  {
   "cell_type": "code",
   "execution_count": 26,
   "id": "45c75aa6-1b05-4f27-90fb-7d8964c588ae",
   "metadata": {},
   "outputs": [
    {
     "name": "stdout",
     "output_type": "stream",
     "text": [
      "s\n",
      "h\n",
      "0\n",
      "asd66ghjgjhkhgjksdf\n"
     ]
    }
   ],
   "source": [
    "st = 'asdffghjgjhkhgjksdf'\n",
    "a = st[1]\n",
    "print(a)\n",
    "print(st[-13])\n",
    "print(st.index('asd'))\n",
    "print(st.replace('ff', '66'))"
   ]
  },
  {
   "cell_type": "code",
   "execution_count": 47,
   "id": "0d447d75-3945-4fe6-b99a-9cc940152267",
   "metadata": {},
   "outputs": [
    {
     "name": "stdout",
     "output_type": "stream",
     "text": [
      "['asd', 'asdf', 'dfg']\n",
      "d asdf dfg213\n",
      "1\n"
     ]
    }
   ],
   "source": [
    "st = 'asd asdf dfg'\n",
    "st = st.split(' ')\n",
    "print(st)\n",
    "st = 'asd asdf dfg213'\n",
    "st = st.strip('as')\n",
    "print(st)\n",
    "print(st.count('a'))"
   ]
  },
  {
   "cell_type": "code",
   "execution_count": null,
   "id": "8278b14c-d943-4df1-9695-34fa293ea4a5",
   "metadata": {},
   "outputs": [],
   "source": []
  }
 ],
 "metadata": {
  "kernelspec": {
   "display_name": "Python 3 (ipykernel)",
   "language": "python",
   "name": "python3"
  },
  "language_info": {
   "codemirror_mode": {
    "name": "ipython",
    "version": 3
   },
   "file_extension": ".py",
   "mimetype": "text/x-python",
   "name": "python",
   "nbconvert_exporter": "python",
   "pygments_lexer": "ipython3",
   "version": "3.11.5"
  }
 },
 "nbformat": 4,
 "nbformat_minor": 5
}
