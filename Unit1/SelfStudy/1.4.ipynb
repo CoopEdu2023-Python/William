{
 "cells": [
  {
   "cell_type": "code",
   "execution_count": 5,
   "id": "a4009201-e75e-4967-aa9c-7a49347bfc52",
   "metadata": {},
   "outputs": [
    {
     "name": "stdout",
     "output_type": "stream",
     "text": [
      "我今年已经19岁了\n",
      "我已经成年了\n",
      "即将不如大学生活\n",
      "时间过得真快啊！\n"
     ]
    }
   ],
   "source": [
    "age = 19\n",
    "print(f\"我今年已经{age}岁了\")\n",
    "if age >= 18:\n",
    "    print('我已经成年了' + '\\n' + '即将不如大学生活')\n",
    "print('时间过得真快啊！')"
   ]
  },
  {
   "cell_type": "code",
   "execution_count": 7,
   "id": "4e6e25d7-abfd-450f-86ab-612d7b41a8e9",
   "metadata": {},
   "outputs": [
    {
     "name": "stdin",
     "output_type": "stream",
     "text": [
      "你的年龄： 12345678\n"
     ]
    },
    {
     "name": "stdout",
     "output_type": "stream",
     "text": [
      "您已成年，请买票10元\n"
     ]
    }
   ],
   "source": [
    "age = int(input('你的年龄：'))\n",
    "if age >= 18:\n",
    "    print('您已成年，请买票10元')\n",
    "else:\n",
    "    print('您未成年，可以免费游玩')\n"
   ]
  },
  {
   "cell_type": "code",
   "execution_count": 8,
   "id": "4e7bb43e-f4db-46d1-89bf-59c963140be7",
   "metadata": {},
   "outputs": [
    {
     "name": "stdin",
     "output_type": "stream",
     "text": [
      "你的身高：（cm） 140\n",
      "您的vip等级： 23\n"
     ]
    },
    {
     "name": "stdout",
     "output_type": "stream",
     "text": [
      "免费\n"
     ]
    }
   ],
   "source": [
    "h = int(input('你的身高：（cm）'))\n",
    "v = int(input('您的vip等级：'))\n",
    "if h >= 120:\n",
    "    print('免费')\n",
    "elif v >= 3:\n",
    "    print('免费')\n",
    "else:\n",
    "    print('交钱')"
   ]
  },
  {
   "cell_type": "code",
   "execution_count": null,
   "id": "4327bd28-4402-4ab0-b04c-b61c5f281808",
   "metadata": {},
   "outputs": [],
   "source": []
  }
 ],
 "metadata": {
  "kernelspec": {
   "display_name": "Python 3 (ipykernel)",
   "language": "python",
   "name": "python3"
  },
  "language_info": {
   "codemirror_mode": {
    "name": "ipython",
    "version": 3
   },
   "file_extension": ".py",
   "mimetype": "text/x-python",
   "name": "python",
   "nbconvert_exporter": "python",
   "pygments_lexer": "ipython3",
   "version": "3.11.5"
  }
 },
 "nbformat": 4,
 "nbformat_minor": 5
}
