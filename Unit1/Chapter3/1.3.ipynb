{
 "cells": [
  {
   "cell_type": "code",
   "execution_count": 1,
   "id": "c77dede5-e14f-4122-b231-b0e9c67a9f3b",
   "metadata": {},
   "outputs": [
    {
     "name": "stdout",
     "output_type": "stream",
     "text": [
      "asdfasdf 234\n"
     ]
    }
   ],
   "source": [
    "name = '234'\n",
    "message = 'asdfasdf %s' % name\n",
    "print(message)"
   ]
  },
  {
   "cell_type": "code",
   "execution_count": 2,
   "id": "92d42238-6eb9-4e32-ac67-72609e8ef034",
   "metadata": {},
   "outputs": [
    {
     "name": "stdout",
     "output_type": "stream",
     "text": [
      "asdfasdf 234, adsfaieh 5678\n"
     ]
    }
   ],
   "source": [
    "num1 = 234\n",
    "num2 = 5678\n",
    "message = 'asdfasdf %s, adsfaieh %s' % (num1, num2)\n",
    "print(message)"
   ]
  },
  {
   "cell_type": "code",
   "execution_count": 3,
   "id": "9ed0de9a-7e27-4816-9e4f-e14bdec740c3",
   "metadata": {},
   "outputs": [
    {
     "name": "stdout",
     "output_type": "stream",
     "text": [
      "asdfasdf 234, adsfaieh 5678, jeihs 23.500000\n"
     ]
    }
   ],
   "source": [
    "num1 = '234'\n",
    "num2 = 5678\n",
    "num3 = 23.5\n",
    "message = 'asdfasdf %s, adsfaieh %d, jeihs %f' % (num1, num2, num3)\n",
    "print(message)"
   ]
  },
  {
   "cell_type": "code",
   "execution_count": 10,
   "id": "54be9265-fece-4df4-8e6c-24ed615b8d46",
   "metadata": {},
   "outputs": [
    {
     "name": "stdout",
     "output_type": "stream",
     "text": [
      "数字11宽度限制为5，结果是：   11\n",
      "数字11宽度限制为1，结果是：11\n",
      "数字11.345宽度限制为7，小数精度为2，结果是：  11.35\n",
      "数字11.345小数精度为2，结果是：11.35\n"
     ]
    }
   ],
   "source": [
    "num1 = 11\n",
    "num2 = 11.345\n",
    "print('数字11宽度限制为5，结果是：%5d' % num1)\n",
    "print('数字11宽度限制为1，结果是：%1d' % num1)\n",
    "print('数字11.345宽度限制为7，小数精度为2，结果是：%7.2f' % num2)\n",
    "print('数字11.345小数精度为2，结果是：%.2f' % num2)"
   ]
  },
  {
   "cell_type": "code",
   "execution_count": 13,
   "id": "c745784d-9c66-408c-8e1c-d6dc688cec77",
   "metadata": {},
   "outputs": [
    {
     "name": "stdout",
     "output_type": "stream",
     "text": [
      "字符串234, 整数5678, 浮点数23.5\n"
     ]
    }
   ],
   "source": [
    "num1 = '234'\n",
    "num2 = 5678\n",
    "num3 = 23.5\n",
    "print(f'字符串{num1}, 整数{num2}, 浮点数{num3}')"
   ]
  },
  {
   "cell_type": "code",
   "execution_count": null,
   "id": "aa160f89-a0c5-41f6-be2c-8d8fa9accfc2",
   "metadata": {},
   "outputs": [],
   "source": []
  }
 ],
 "metadata": {
  "kernelspec": {
   "display_name": "Python 3 (ipykernel)",
   "language": "python",
   "name": "python3"
  },
  "language_info": {
   "codemirror_mode": {
    "name": "ipython",
    "version": 3
   },
   "file_extension": ".py",
   "mimetype": "text/x-python",
   "name": "python",
   "nbconvert_exporter": "python",
   "pygments_lexer": "ipython3",
   "version": "3.11.5"
  }
 },
 "nbformat": 4,
 "nbformat_minor": 5
}
