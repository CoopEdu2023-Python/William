{
 "cells": [
  {
   "cell_type": "markdown",
   "id": "2088ae44b059e8b7",
   "metadata": {
    "collapsed": false,
    "jupyter": {
     "outputs_hidden": false
    }
   },
   "source": [
    "# Boolean | 布尔值"
   ]
  },
  {
   "cell_type": "markdown",
   "id": "812318bd9923147f",
   "metadata": {
    "collapsed": false,
    "jupyter": {
     "outputs_hidden": false
    }
   },
   "source": [
    "1.  What is the boolean value of -1?\n",
    "\n",
    "    -1 的布尔值是多少？"
   ]
  },
  {
   "cell_type": "code",
   "execution_count": 1,
   "id": "dbaeb127a073c91d",
   "metadata": {
    "collapsed": false,
    "jupyter": {
     "outputs_hidden": false
    }
   },
   "outputs": [
    {
     "name": "stdout",
     "output_type": "stream",
     "text": [
      "True\n"
     ]
    }
   ],
   "source": [
    "print(bool(-1))"
   ]
  },
  {
   "cell_type": "markdown",
   "id": "61452a1329c2fe1",
   "metadata": {
    "collapsed": false,
    "jupyter": {
     "outputs_hidden": false
    }
   },
   "source": [
    "2. What is the boolean value of \"a\"?\n",
    "\n",
    "    \"a\" 的布尔值是多少？"
   ]
  },
  {
   "cell_type": "code",
   "execution_count": 2,
   "id": "ad2937b8d3594483",
   "metadata": {
    "collapsed": false,
    "is_executing": true,
    "jupyter": {
     "outputs_hidden": false
    }
   },
   "outputs": [
    {
     "name": "stdout",
     "output_type": "stream",
     "text": [
      "True\n",
      "False\n"
     ]
    }
   ],
   "source": [
    "print(bool('a'))\n",
    "print(bool(''))"
   ]
  },
  {
   "cell_type": "raw",
   "id": "6297e76c40bd0338",
   "metadata": {
    "collapsed": false,
    "jupyter": {
     "outputs_hidden": false
    }
   },
   "source": [
    "# Comparison Operator | 比较运算符"
   ]
  },
  {
   "cell_type": "raw",
   "id": "14038ad5631e2afa",
   "metadata": {
    "collapsed": false,
    "jupyter": {
     "outputs_hidden": false
    }
   },
   "source": [
    "3. Can str and numbers be compared?"
   ]
  },
  {
   "cell_type": "code",
   "execution_count": 3,
   "id": "39f1179887a8c721",
   "metadata": {
    "collapsed": false,
    "jupyter": {
     "outputs_hidden": false
    }
   },
   "outputs": [
    {
     "name": "stdout",
     "output_type": "stream",
     "text": [
      "False\n",
      "True\n"
     ]
    }
   ],
   "source": [
    "print(1 == \"1\")\n",
    "print(\"12\" < \"2\")"
   ]
  },
  {
   "cell_type": "markdown",
   "id": "c5c00bfb1c74658",
   "metadata": {
    "collapsed": false,
    "jupyter": {
     "outputs_hidden": false
    }
   },
   "source": [
    "4. What is the difference between \"=\" and \"==\""
   ]
  },
  {
   "cell_type": "code",
   "execution_count": null,
   "id": "2d68eeb47d730905",
   "metadata": {
    "collapsed": false,
    "is_executing": true,
    "jupyter": {
     "outputs_hidden": false
    }
   },
   "outputs": [],
   "source": [
    "a = 1\n",
    "if a == 1:\n",
    "    print(1)"
   ]
  },
  {
   "cell_type": "markdown",
   "id": "967f9befdf4d11c0",
   "metadata": {
    "collapsed": false,
    "jupyter": {
     "outputs_hidden": false
    }
   },
   "source": [
    "5. Is 0.1 + 0.2 == 0.3?"
   ]
  },
  {
   "cell_type": "code",
   "execution_count": 5,
   "id": "f5b97a1563bc1aed",
   "metadata": {
    "collapsed": false,
    "is_executing": true,
    "jupyter": {
     "outputs_hidden": false
    }
   },
   "outputs": [
    {
     "name": "stdout",
     "output_type": "stream",
     "text": [
      "True\n"
     ]
    }
   ],
   "source": [
    "print(0.1 + 0.2 > 0.3)"
   ]
  },
  {
   "cell_type": "markdown",
   "id": "4312e6c4e4075001",
   "metadata": {
    "collapsed": false,
    "jupyter": {
     "outputs_hidden": false
    }
   },
   "source": [
    "# Conditional Statement"
   ]
  },
  {
   "cell_type": "markdown",
   "id": "c46d12f442a98f36",
   "metadata": {
    "collapsed": false,
    "jupyter": {
     "outputs_hidden": false
    }
   },
   "source": [
    "6. What is a code block in Python?\n",
    "\n",
    "   在 Python 中，什么是代码块？"
   ]
  },
  {
   "cell_type": "code",
   "execution_count": 6,
   "id": "eb4d65357476f3b8",
   "metadata": {
    "collapsed": false,
    "jupyter": {
     "outputs_hidden": false
    }
   },
   "outputs": [
    {
     "name": "stdout",
     "output_type": "stream",
     "text": [
      "1\n",
      "2\n"
     ]
    }
   ],
   "source": [
    "a = 1\n",
    "if a == 1:\n",
    "    print(1)\n",
    "    print(2)"
   ]
  },
  {
   "cell_type": "markdown",
   "id": "fb94cb0b5b74d018",
   "metadata": {
    "collapsed": false,
    "jupyter": {
     "outputs_hidden": false
    }
   },
   "source": [
    "# Identity Operator | 身份运算符"
   ]
  },
  {
   "cell_type": "markdown",
   "id": "94b943480a4a8f38",
   "metadata": {
    "collapsed": false,
    "jupyter": {
     "outputs_hidden": false
    }
   },
   "source": [
    "7. Deos 1 \"is\" 1.0 in Python?"
   ]
  },
  {
   "cell_type": "code",
   "execution_count": 7,
   "id": "510a57e1f8c9e158",
   "metadata": {
    "collapsed": false,
    "is_executing": true,
    "jupyter": {
     "outputs_hidden": false
    }
   },
   "outputs": [
    {
     "name": "stdout",
     "output_type": "stream",
     "text": [
      "False\n"
     ]
    },
    {
     "name": "stderr",
     "output_type": "stream",
     "text": [
      "<>:1: SyntaxWarning: \"is\" with a literal. Did you mean \"==\"?\n",
      "<>:1: SyntaxWarning: \"is\" with a literal. Did you mean \"==\"?\n",
      "C:\\Users\\666\\AppData\\Local\\Temp\\ipykernel_3412\\400310949.py:1: SyntaxWarning: \"is\" with a literal. Did you mean \"==\"?\n",
      "  print(1 is 1.0)\n"
     ]
    }
   ],
   "source": [
    "print(1 is 1.0)"
   ]
  },
  {
   "cell_type": "markdown",
   "id": "224de44a478ff815",
   "metadata": {
    "collapsed": false,
    "jupyter": {
     "outputs_hidden": false
    }
   },
   "source": [
    "# Pseudocode"
   ]
  },
  {
   "cell_type": "markdown",
   "id": "6b80d48a64265f07",
   "metadata": {
    "collapsed": false,
    "jupyter": {
     "outputs_hidden": false
    }
   },
   "source": [
    "8. Write pseudocode of the text below"
   ]
  },
  {
   "cell_type": "code",
   "execution_count": 9,
   "id": "63d24083ea219550",
   "metadata": {
    "collapsed": false,
    "jupyter": {
     "outputs_hidden": false
    }
   },
   "outputs": [
    {
     "name": "stdout",
     "output_type": "stream",
     "text": [
      "买两个西瓜\n"
     ]
    }
   ],
   "source": [
    "\"\"\"\n",
    "某程序员出门上班，他老婆对他说：\n",
    "“晚上回来买一个西瓜，如果看到西红柿，就买两个。”\n",
    "于是程序员回来的时候，买了两个西瓜\n",
    "\"\"\"\n",
    "#1\n",
    "\"\"\"\n",
    "买一个西红柿\n",
    "if 看到西红柿\n",
    "    买两个西红柿\n",
    "\n",
    "if 看到西红柿\n",
    "    买两个西瓜\n",
    "else \n",
    "    买一个西瓜\n",
    "\"\"\""
   ]
  },
  {
   "cell_type": "code",
   "execution_count": null,
   "id": "c8f2c8e0-a495-4554-8dfe-c0489889c644",
   "metadata": {},
   "outputs": [],
   "source": []
  }
 ],
 "metadata": {
  "kernelspec": {
   "display_name": "Python 3 (ipykernel)",
   "language": "python",
   "name": "python3"
  },
  "language_info": {
   "codemirror_mode": {
    "name": "ipython",
    "version": 3
   },
   "file_extension": ".py",
   "mimetype": "text/x-python",
   "name": "python",
   "nbconvert_exporter": "python",
   "pygments_lexer": "ipython3",
   "version": "3.11.5"
  }
 },
 "nbformat": 4,
 "nbformat_minor": 5
}
