{
 "cells": [
  {
   "cell_type": "markdown",
   "id": "83ce7625fa5543ab",
   "metadata": {
    "collapsed": false,
    "jupyter": {
     "outputs_hidden": false
    }
   },
   "source": [
    "# str | 字符串"
   ]
  },
  {
   "cell_type": "markdown",
   "id": "f66cb7ebaa0b3df5",
   "metadata": {
    "collapsed": false,
    "jupyter": {
     "outputs_hidden": false
    }
   },
   "source": [
    "1. Print all string methods that do not start with `__`\n",
    "\n",
    "    打印所有不以下划线开头的字符串的方法"
   ]
  },
  {
   "cell_type": "code",
   "execution_count": 7,
   "id": "initial_id",
   "metadata": {},
   "outputs": [
    {
     "name": "stdout",
     "output_type": "stream",
     "text": [
      "1.capitalize\n",
      "2.casefold\n",
      "3.center\n",
      "4.count\n",
      "5.encode\n",
      "6.endswith\n",
      "7.expandtabs\n",
      "8.find\n",
      "9.format\n",
      "10.format_map\n",
      "11.index\n",
      "12.isalnum\n",
      "13.isalpha\n",
      "14.isascii\n",
      "15.isdecimal\n",
      "16.isdigit\n",
      "17.isidentifier\n",
      "18.islower\n",
      "19.isnumeric\n",
      "20.isprintable\n",
      "21.isspace\n",
      "22.istitle\n",
      "23.isupper\n",
      "24.join\n",
      "25.ljust\n",
      "26.lower\n",
      "27.lstrip\n",
      "28.maketrans\n",
      "29.partition\n",
      "30.removeprefix\n",
      "31.removesuffix\n",
      "32.replace\n",
      "33.rfind\n",
      "34.rindex\n",
      "35.rjust\n",
      "36.rpartition\n",
      "37.rsplit\n",
      "38.rstrip\n",
      "39.split\n",
      "40.splitlines\n",
      "41.startswith\n",
      "42.strip\n",
      "43.swapcase\n",
      "44.title\n",
      "45.translate\n",
      "46.upper\n",
      "47.zfill\n"
     ]
    }
   ],
   "source": [
    "j = 0\n",
    "for i in dir(str):\n",
    "    if i[0] != '_':\n",
    "        j += 1\n",
    "        print(j, i, sep='.')"
   ]
  },
  {
   "cell_type": "markdown",
   "id": "f356aedbd2324dd2",
   "metadata": {
    "collapsed": false,
    "jupyter": {
     "outputs_hidden": false
    }
   },
   "source": [
    "2. Choose 10 string method that is not mentioned in the video, explain the usage of each method with code\n",
    "\n",
    "    选择 10 个视频中没有提到的字符串方法，以代码的形式说明它的用法"
   ]
  },
  {
   "cell_type": "code",
   "execution_count": 34,
   "id": "bdb9e983a101a68e",
   "metadata": {
    "collapsed": false,
    "jupyter": {
     "outputs_hidden": false
    }
   },
   "outputs": [
    {
     "name": "stdout",
     "output_type": "stream",
     "text": [
      "william wang\n",
      "William wang\n",
      "-------------------William Wang-------------------\n",
      "False\n",
      "william wang\n",
      "8\n",
      "Hello World\n",
      "False\n",
      "00000hello\n",
      "*****hello\n"
     ]
    }
   ],
   "source": [
    "string = 'William Wang'\n",
    "print(string.casefold())    # 全部小写\n",
    "print(string.capitalize())  # 首个字母大写\n",
    "print(string.center(50, '-'))  # 居中，第一个参数是字符串的宽度，第二个是添加修饰\n",
    "print(string.isalnum())     # 判断字符串是否都是字母和数字或数字\n",
    "print(string.lower())       # 全部变为小写\n",
    "print(string.rfind('W'))    # 输出参数中的字符在字符串中最后出现的索引，如果没有输出-1\n",
    "string = 'hello world'\n",
    "print(string.title())       # 将字符串中每个单词的首字母变为大写\n",
    "print(string.isspace())     # 判断字符串是否都是空格\n",
    "string = \"hello\"\n",
    "print(string.zfill(10))     # 在字符串前方填充‘0’，使宽度等于参数\n",
    "print(string.rjust(10, '*'))# 参数1填充的宽度，参数2填充的内容默认为‘ ’"
   ]
  },
  {
   "cell_type": "markdown",
   "id": "d1a9b6f386b77110",
   "metadata": {
    "collapsed": false,
    "jupyter": {
     "outputs_hidden": false
    }
   },
   "source": [
    "3. `isdecimal`, `isdigit`, `isnumeric` are both used for check if string can convert to number, ask ChatGPT to explain the difference between these methods\n",
    "\n",
    "    `isdecimal`, `isdigit`, `isnumeric` 这三个方法都可以判断字符串是否是数字，让 ChatGPT 解释它们之间的区别"
   ]
  },
  {
   "cell_type": "code",
   "execution_count": null,
   "id": "6a03ebe00a109ac1",
   "metadata": {
    "collapsed": false,
    "jupyter": {
     "outputs_hidden": false
    }
   },
   "outputs": [],
   "source": [
    "'''\n",
    "`isdecimal()`, `isdigit()`, 和 `isnumeric()` 都是Python中用于判断字符串是否包含数字字符的方法，但它们之间有一些不同之处：\n",
    "\n",
    "1. `isdecimal()`: 这个方法会在字符串中的字符都是十进制数字（0-9）时返回 `True`。它不会考虑其他数字字符，比如上标、下标或分数。因此，它是一种更严格的检查方式，适用于确保字符串表示一个由常规数字组成的整数的情况。\n",
    "\n",
    "```python\n",
    "\"12345\".isdecimal()  # True\n",
    "\"½\".isdecimal()  # False\n",
    "\"२৩\".isdecimal()  # False\n",
    "```\n",
    "\n",
    "2. `isdigit()`: 这个方法比 `isdecimal()` 宽松一些，但仍然检查字符串中的字符是否都是数字。它对更多种类的数字字符返回 `True`，包括来自各种文字脚本的数字字符，但也可能对传统上不被视为数字的其他字符返回 `True`，比如一些数学符号。\n",
    "\n",
    "```python\n",
    "\"12345\".isdigit()  # True\n",
    "\"½\".isdigit()  # True\n",
    "\"२৩\".isdigit()  # True\n",
    "\"⅔\".isdigit()  # True\n",
    "\"²\".isdigit()  # True\n",
    "\"x\".isdigit()  # False\n",
    "```\n",
    "\n",
    "3. `isnumeric()`: 这个方法是三者中最宽松的，对更广泛范围的数字字符返回 `True`。它包括来自各种文字脚本的数字字符、数学符号、分数、下标、上标等。它是用于检查字符串是否可以被视为数值的最包容性方法。\n",
    "\n",
    "```python\n",
    "\"12345\".isnumeric()  # True\n",
    "\"½\".isnumeric()  # True\n",
    "\"२৩\".isnumeric()  # True\n",
    "\"⅔\".isnumeric()  # True\n",
    "\"²\".isnumeric()  # True\n",
    "\"x\".isnumeric()  # False\n",
    "```\n",
    "\n",
    "总之，这三个方法之间的主要区别在于它们的包容性。`isdecimal` 是最严格的，`isdigit` 更宽松，`isnumeric` 在识别字符串中的数字字符方面最宽泛。选择使用哪一个方法取决于您应用程序的具体要求。\n",
    "'''"
   ]
  },
  {
   "cell_type": "code",
   "execution_count": 1,
   "id": "313a2c84-04e5-4366-9a80-6bdc1f5a78e2",
   "metadata": {},
   "outputs": [
    {
     "name": "stdout",
     "output_type": "stream",
     "text": [
      "554321\n"
     ]
    }
   ],
   "source": [
    "str_1 = '123455'\n",
    "print(str_1[::-1])"
   ]
  },
  {
   "cell_type": "code",
   "execution_count": 3,
   "id": "8ab8f4a8-3991-468a-aad3-845e8973dd67",
   "metadata": {},
   "outputs": [
    {
     "name": "stdout",
     "output_type": "stream",
     "text": [
      "1357\n"
     ]
    }
   ],
   "source": [
    "str_3 = '12345678'\n",
    "print(str_3[::2])"
   ]
  },
  {
   "cell_type": "code",
   "execution_count": null,
   "id": "78ba0b5b-523b-4e4f-983c-7398fdfd633f",
   "metadata": {},
   "outputs": [],
   "source": []
  }
 ],
 "metadata": {
  "kernelspec": {
   "display_name": "Python 3 (ipykernel)",
   "language": "python",
   "name": "python3"
  },
  "language_info": {
   "codemirror_mode": {
    "name": "ipython",
    "version": 3
   },
   "file_extension": ".py",
   "mimetype": "text/x-python",
   "name": "python",
   "nbconvert_exporter": "python",
   "pygments_lexer": "ipython3",
   "version": "3.11.5"
  }
 },
 "nbformat": 4,
 "nbformat_minor": 5
}
