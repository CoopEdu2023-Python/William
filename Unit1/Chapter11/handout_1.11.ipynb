{
 "cells": [
  {
   "cell_type": "markdown",
   "id": "3c89d0b05431a2b9",
   "metadata": {
    "collapsed": false,
    "jupyter": {
     "outputs_hidden": false
    }
   },
   "source": [
    "# Recursion | 递归"
   ]
  },
  {
   "cell_type": "markdown",
   "id": "fdbe1a38320a5887",
   "metadata": {
    "collapsed": false,
    "jupyter": {
     "outputs_hidden": false
    }
   },
   "source": [
    "1. Write down 2 key points of recursion.\n",
    "    写出递归的 2 个关键点。"
   ]
  },
  {
   "cell_type": "code",
   "execution_count": 1,
   "id": "initial_id",
   "metadata": {
    "ExecuteTime": {
     "end_time": "2023-10-25T18:24:48.024776Z",
     "start_time": "2023-10-25T18:24:48.013705Z"
    },
    "collapsed": true,
    "jupyter": {
     "outputs_hidden": true
    }
   },
   "outputs": [],
   "source": [
    "# 1.调用自己\n",
    "# 2.有边界"
   ]
  },
  {
   "cell_type": "markdown",
   "id": "9d847fc547f5e654",
   "metadata": {
    "collapsed": false,
    "jupyter": {
     "outputs_hidden": false
    }
   },
   "source": [
    "2. Calculate the factorial of n using loop.\n",
    "    使用循环计算 n 的阶乘。"
   ]
  },
  {
   "cell_type": "code",
   "execution_count": 4,
   "id": "f45333ed9deaf84f",
   "metadata": {
    "ExecuteTime": {
     "end_time": "2023-10-25T18:24:48.025486Z",
     "start_time": "2023-10-25T18:24:48.018159Z"
    },
    "collapsed": false,
    "jupyter": {
     "outputs_hidden": false
    }
   },
   "outputs": [
    {
     "name": "stdout",
     "output_type": "stream",
     "text": [
      "3\n",
      "2\n",
      "1\n",
      "6\n"
     ]
    }
   ],
   "source": [
    "def fact(n):\n",
    "    r = 1\n",
    "    for i in range(n, 0, -1):\n",
    "        r *= i\n",
    "    print(r)\n",
    "\n",
    "\n",
    "fact(3)"
   ]
  },
  {
   "cell_type": "markdown",
   "id": "c804ce0fa6a05dd2",
   "metadata": {
    "collapsed": false,
    "jupyter": {
     "outputs_hidden": false
    }
   },
   "source": [
    "3. Calculate the factorial of n using recursion.\n",
    "    使用递归计算 n 的阶乘。"
   ]
  },
  {
   "cell_type": "code",
   "execution_count": 8,
   "id": "3de5933dc99db98e",
   "metadata": {
    "ExecuteTime": {
     "end_time": "2023-10-25T18:24:48.025605Z",
     "start_time": "2023-10-25T18:24:48.019802Z"
    },
    "collapsed": false,
    "jupyter": {
     "outputs_hidden": false
    }
   },
   "outputs": [
    {
     "data": {
      "text/plain": [
       "6"
      ]
     },
     "execution_count": 8,
     "metadata": {},
     "output_type": "execute_result"
    }
   ],
   "source": [
    "def fact(n):\n",
    "    if n == 0:\n",
    "        return 1\n",
    "    else:\n",
    "        return n * fact(n-1)\n",
    "\n",
    "\n",
    "fact(3)"
   ]
  },
  {
   "cell_type": "markdown",
   "id": "d3d4b7d86e84ec12",
   "metadata": {
    "collapsed": false,
    "jupyter": {
     "outputs_hidden": false
    }
   },
   "source": [
    "4. Calculate the nth terms of fibonacci sequence using loop. | [Fibonacci](https://en.wikipedia.org/wiki/Fibonacci_sequence)\n",
    "    使用循环计算斐波那契数列的第 n 项。 | [斐波那契](https://zh.wikipedia.org/wiki/%E6%96%90%E6%B3%A2%E9%82%A3%E5%A5%91%E6%95%B0)"
   ]
  },
  {
   "cell_type": "code",
   "execution_count": 22,
   "id": "df99712a412cef83",
   "metadata": {
    "ExecuteTime": {
     "end_time": "2023-10-25T18:24:48.025785Z",
     "start_time": "2023-10-25T18:24:48.022632Z"
    },
    "collapsed": false,
    "jupyter": {
     "outputs_hidden": false
    }
   },
   "outputs": [
    {
     "name": "stdout",
     "output_type": "stream",
     "text": [
      "13\n"
     ]
    }
   ],
   "source": [
    "def fibonacci(n):\n",
    "    r = 0\n",
    "    f1 = 1\n",
    "    f2 = 0\n",
    "    for i in range(n-1):\n",
    "        r = f1 + f2\n",
    "        f2 = f1\n",
    "        f1 = r\n",
    "    print(r)\n",
    "\n",
    "\n",
    "fibonacci(7)"
   ]
  },
  {
   "cell_type": "markdown",
   "id": "596a5b6a39810de5",
   "metadata": {
    "collapsed": false,
    "jupyter": {
     "outputs_hidden": false
    }
   },
   "source": [
    "5. Calculate the nth terms of fibonacci sequence using recursion.\n",
    "    使用递归计算斐波那契数列的第 n 项。"
   ]
  },
  {
   "cell_type": "code",
   "execution_count": 24,
   "id": "c51adbcec7f8b3c8",
   "metadata": {
    "ExecuteTime": {
     "end_time": "2023-10-25T18:24:48.026293Z",
     "start_time": "2023-10-25T18:24:48.024611Z"
    },
    "collapsed": false,
    "jupyter": {
     "outputs_hidden": false
    }
   },
   "outputs": [
    {
     "data": {
      "text/plain": [
       "13"
      ]
     },
     "execution_count": 24,
     "metadata": {},
     "output_type": "execute_result"
    }
   ],
   "source": [
    "def fibonacci(n):\n",
    "    if n == 0:\n",
    "        return 0\n",
    "    if n == 1:\n",
    "        return 1\n",
    "    return fibonacci(n-1) + fibonacci(n-2)\n",
    "\n",
    "\n",
    "fibonacci(7)"
   ]
  },
  {
   "cell_type": "markdown",
   "id": "b8c6ae7b66f1923f",
   "metadata": {
    "collapsed": false,
    "jupyter": {
     "outputs_hidden": false
    }
   },
   "source": [
    "6. Solve the 'Tower of Hanoi' problem using recursion. | [Hanoi - Wikipedia](https://en.wikipedia.org/wiki/Tower_of_Hanoi)\n",
    "    使用递归解决 '汉诺塔' 问题。 [汉诺塔 - 维基百科](https://zh.wikipedia.org/wiki/汉诺塔)<br/>\n",
    "    <img src=\"https://upload.wikimedia.org/wikipedia/commons/0/07/Tower_of_Hanoi.jpeg\">\n",
    "    <br/>[Play online](https://www.mathsisfun.com/games/towerofhanoi.html)"
   ]
  },
  {
   "cell_type": "code",
   "execution_count": 3,
   "id": "faa11be4db126445",
   "metadata": {
    "ExecuteTime": {
     "end_time": "2023-10-25T18:24:48.029093Z",
     "start_time": "2023-10-25T18:24:48.026638Z"
    },
    "collapsed": false,
    "jupyter": {
     "outputs_hidden": false
    }
   },
   "outputs": [
    {
     "name": "stdout",
     "output_type": "stream",
     "text": [
      "31\n"
     ]
    }
   ],
   "source": [
    "def hanoi(n):\n",
    "    if n == 1:\n",
    "        return 1\n",
    "    return hanoi(n-1) + 1 + hanoi(n-1)\n",
    "\n",
    "\n",
    "print(hanoi(5))"
   ]
  },
  {
   "cell_type": "code",
   "execution_count": null,
   "id": "31bcfc3d-964e-4fe2-93e0-1207ededede0",
   "metadata": {},
   "outputs": [],
   "source": []
  }
 ],
 "metadata": {
  "kernelspec": {
   "display_name": "Python 3 (ipykernel)",
   "language": "python",
   "name": "python3"
  },
  "language_info": {
   "codemirror_mode": {
    "name": "ipython",
    "version": 3
   },
   "file_extension": ".py",
   "mimetype": "text/x-python",
   "name": "python",
   "nbconvert_exporter": "python",
   "pygments_lexer": "ipython3",
   "version": "3.11.5"
  }
 },
 "nbformat": 4,
 "nbformat_minor": 5
}
