{
 "cells": [
  {
   "cell_type": "code",
   "execution_count": 1,
   "id": "cba32d9d-6da6-4738-808c-2797acf4766e",
   "metadata": {},
   "outputs": [
    {
     "name": "stdout",
     "output_type": "stream",
     "text": [
      "钱包还有： 50\n"
     ]
    }
   ],
   "source": [
    "money = 50\n",
    "print(\"钱包还有：\",money)"
   ]
  },
  {
   "cell_type": "code",
   "execution_count": 2,
   "id": "260a3eba-6694-4125-a84c-bec7031ac93d",
   "metadata": {},
   "outputs": [
    {
     "name": "stdout",
     "output_type": "stream",
     "text": [
      "买了一个冰淇凌花费十元，剩余： 40 元\n"
     ]
    }
   ],
   "source": [
    "money = money-10\n",
    "print(\"买了一个冰淇凌花费十元，剩余：\",money,\"元\")"
   ]
  },
  {
   "cell_type": "code",
   "execution_count": 3,
   "id": "c12447d0-983b-4e24-91c9-223a485f0729",
   "metadata": {},
   "outputs": [
    {
     "name": "stdout",
     "output_type": "stream",
     "text": [
      "买了一个冰淇凌花费十元，剩余： 40 元\n",
      "买了两个冰淇凌花费十元，剩余： 40 元\n",
      "买了三个冰淇凌花费十元，剩余： 40 元\n",
      "买了四个冰淇凌花费十元，剩余： 40 元\n"
     ]
    }
   ],
   "source": [
    "print(\"买了一个冰淇凌花费十元，剩余：\",money,\"元\")\n",
    "print(\"买了两个冰淇凌花费十元，剩余：\",money,\"元\")\n",
    "print(\"买了三个冰淇凌花费十元，剩余：\",money,\"元\")\n",
    "print(\"买了四个冰淇凌花费十元，剩余：\",money,\"元\")"
   ]
  },
  {
   "cell_type": "code",
   "execution_count": 2,
   "id": "c672c532-d3cc-4565-882d-0fbc4a4d8609",
   "metadata": {},
   "outputs": [
    {
     "name": "stdout",
     "output_type": "stream",
     "text": [
      "当前钱包余额： 50 元\n",
      "购买冰淇凌,花费: 10 元\n",
      "购买可乐,花费: 5 元\n",
      "最终,钱包剩余： 35 元\n"
     ]
    }
   ],
   "source": [
    "money = 50\n",
    "print(\"当前钱包余额：\",money,\"元\")\n",
    "money = money - 10\n",
    "print(\"购买冰淇凌,花费:\",10,\"元\")\n",
    "money = money - 5\n",
    "print(\"购买可乐,花费:\",5,\"元\")\n",
    "print(\"最终,钱包剩余：\",money,\"元\")"
   ]
  },
  {
   "cell_type": "code",
   "execution_count": null,
   "id": "88201f44-73da-46cc-9f1d-12479c84020f",
   "metadata": {},
   "outputs": [],
   "source": [
    "# 以下部分描述了解释器中内置的标准类型。\n",
    "# 主要内置类型有数字、序列、映射、类、实例和异常。\n",
    "# 有些多项集类是可变的。 它们用于添加、移除或重排其成员的方法将原地执行，并不返回特定的项，绝对不会返回多项集实例自身而是返回 None。\n",
    "# 有些操作受多种对象类型的支持；特别地，实际上所有对象都可以比较是否相等、检测逻辑值，以及转换为字符串（使用 repr() 函数或略有差异的 str() 函数）。 后一个函数是在对象由 print() 函数输出时被隐式地调用的。"
   ]
  }
 ],
 "metadata": {
  "kernelspec": {
   "display_name": "Python 3 (ipykernel)",
   "language": "python",
   "name": "python3"
  },
  "language_info": {
   "codemirror_mode": {
    "name": "ipython",
    "version": 3
   },
   "file_extension": ".py",
   "mimetype": "text/x-python",
   "name": "python",
   "nbconvert_exporter": "python",
   "pygments_lexer": "ipython3",
   "version": "3.11.5"
  }
 },
 "nbformat": 4,
 "nbformat_minor": 5
}
