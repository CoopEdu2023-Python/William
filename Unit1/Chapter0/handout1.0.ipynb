{
 "cells": [
  {
   "cell_type": "markdown",
   "id": "8189cb16b1e5767",
   "metadata": {
    "collapsed": false,
    "jupyter": {
     "outputs_hidden": false
    }
   },
   "source": [
    "1. debug"
   ]
  },
  {
   "cell_type": "code",
   "execution_count": 6,
   "id": "b1c7864e7ad759b7",
   "metadata": {
    "collapsed": false,
    "jupyter": {
     "outputs_hidden": false
    }
   },
   "outputs": [
    {
     "name": "stdout",
     "output_type": "stream",
     "text": [
      "hello world\n"
     ]
    }
   ],
   "source": [
    "# 1. copy problem description in next line\n",
    "# SyntaxError: invalid syntax. Perhaps you forgot a comma?\n",
    "# 2. fix the code\n",
    "\n",
    "print(\"hello world\")"
   ]
  },
  {
   "cell_type": "markdown",
   "id": "b853749793f967a7",
   "metadata": {
    "collapsed": false,
    "jupyter": {
     "outputs_hidden": false
    }
   },
   "source": [
    "2. debug"
   ]
  },
  {
   "cell_type": "code",
   "execution_count": 5,
   "id": "d3d2c090da0f8860",
   "metadata": {
    "collapsed": false,
    "jupyter": {
     "outputs_hidden": false
    }
   },
   "outputs": [
    {
     "name": "stdout",
     "output_type": "stream",
     "text": [
      "hello world\n"
     ]
    }
   ],
   "source": [
    "# 1. copy problem description in next line\n",
    "# SyntaxError: invalid character '（' (U+FF08)\n",
    "# 2. fix the code\n",
    "\n",
    "print(\"hello world\")"
   ]
  },
  {
   "cell_type": "markdown",
   "id": "fb1ecf6a6b11e516",
   "metadata": {
    "collapsed": false,
    "jupyter": {
     "outputs_hidden": false
    }
   },
   "source": [
    "3. debug"
   ]
  },
  {
   "cell_type": "code",
   "execution_count": 4,
   "id": "83dbb32d91924223",
   "metadata": {
    "collapsed": false,
    "jupyter": {
     "outputs_hidden": false
    }
   },
   "outputs": [
    {
     "name": "stdout",
     "output_type": "stream",
     "text": [
      "hello world\n"
     ]
    }
   ],
   "source": [
    "# 1. copy problem description in next line\n",
    "# SyntaxError: unterminated string literal (detected at line 5)\n",
    "# 2. fix the code\n",
    "\n",
    "print('hello world')"
   ]
  },
  {
   "cell_type": "markdown",
   "id": "5de0e11cb7afe62c",
   "metadata": {
    "collapsed": false,
    "jupyter": {
     "outputs_hidden": false
    }
   },
   "source": [
    "4. debug"
   ]
  },
  {
   "cell_type": "code",
   "execution_count": 9,
   "id": "772e6de694cc163f",
   "metadata": {
    "collapsed": false,
    "jupyter": {
     "outputs_hidden": false
    }
   },
   "outputs": [
    {
     "name": "stdout",
     "output_type": "stream",
     "text": [
      "hello world\n"
     ]
    }
   ],
   "source": [
    "# 1. copy problem description in next line\n",
    "# SyntaxError: unterminated string literal (detected at line 5)   NameError: name 'Print' is not defined\n",
    "# 2. fix the code\n",
    "\n",
    "print(\"hello world\")"
   ]
  },
  {
   "cell_type": "markdown",
   "id": "4cc92ca4370d1dfd",
   "metadata": {
    "collapsed": false,
    "jupyter": {
     "outputs_hidden": false
    }
   },
   "source": [
    "5. debug"
   ]
  },
  {
   "cell_type": "code",
   "execution_count": 12,
   "id": "c63644d19356701a",
   "metadata": {
    "collapsed": false,
    "jupyter": {
     "outputs_hidden": false
    }
   },
   "outputs": [
    {
     "name": "stdout",
     "output_type": "stream",
     "text": [
      "hello world\n"
     ]
    }
   ],
   "source": [
    "# 1. copy problem description in next line\n",
    "# SyntaxError: invalid character '】' (U+3011)\n",
    "# 2. fix the code\n",
    "\n",
    "print('hello world')"
   ]
  }
 ],
 "metadata": {
  "kernelspec": {
   "display_name": "Python 3 (ipykernel)",
   "language": "python",
   "name": "python3"
  },
  "language_info": {
   "codemirror_mode": {
    "name": "ipython",
    "version": 3
   },
   "file_extension": ".py",
   "mimetype": "text/x-python",
   "name": "python",
   "nbconvert_exporter": "python",
   "pygments_lexer": "ipython3",
   "version": "3.11.5"
  }
 },
 "nbformat": 4,
 "nbformat_minor": 5
}
