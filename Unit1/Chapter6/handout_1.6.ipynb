{
 "cells": [
  {
   "cell_type": "markdown",
   "id": "4ab872a5ea4eaeb6",
   "metadata": {
    "collapsed": false,
    "jupyter": {
     "outputs_hidden": false
    }
   },
   "source": [
    "# Definition | 定义"
   ]
  },
  {
   "cell_type": "markdown",
   "id": "4d0e45834597a003",
   "metadata": {
    "collapsed": false,
    "jupyter": {
     "outputs_hidden": false
    }
   },
   "source": [
    "1. Use 'Python pass' to define a function\n",
    "\n",
    "    使用空语句定义一个函数"
   ]
  },
  {
   "cell_type": "code",
   "execution_count": null,
   "id": "4bb9e517f6e243db",
   "metadata": {
    "collapsed": false,
    "jupyter": {
     "outputs_hidden": false
    }
   },
   "outputs": [],
   "source": [
    "def func():\n",
    "    pass"
   ]
  },
  {
   "cell_type": "markdown",
   "id": "fc6e042cf7088cb4",
   "metadata": {
    "collapsed": false,
    "jupyter": {
     "outputs_hidden": false
    }
   },
   "source": [
    "2. Debug"
   ]
  },
  {
   "cell_type": "code",
   "execution_count": 2,
   "id": "97aac7e92971fce2",
   "metadata": {
    "collapsed": false,
    "jupyter": {
     "outputs_hidden": false
    }
   },
   "outputs": [
    {
     "name": "stdout",
     "output_type": "stream",
     "text": [
      "super!\n"
     ]
    }
   ],
   "source": [
    "def super_print():\n",
    "    print('super!')\n",
    "\n",
    "\n",
    "super_print()\n"
   ]
  },
  {
   "cell_type": "markdown",
   "id": "6b08818bad5de8e6",
   "metadata": {
    "collapsed": false,
    "jupyter": {
     "outputs_hidden": false
    }
   },
   "source": [
    "# Parameter | 参数"
   ]
  },
  {
   "cell_type": "markdown",
   "id": "cc200e503f912eb3",
   "metadata": {
    "collapsed": false,
    "jupyter": {
     "outputs_hidden": false
    }
   },
   "source": [
    "3. Point out formal parameter and actual argument\n",
    "\n",
    "    指出代码中的形参和实参"
   ]
  },
  {
   "cell_type": "code",
   "execution_count": null,
   "id": "fb086ddd9e1adf73",
   "metadata": {
    "collapsed": false,
    "jupyter": {
     "outputs_hidden": false
    }
   },
   "outputs": [],
   "source": [
    "def test_divide(num1, num2):\n",
    "    print(num1 / num2)\n",
    "\n",
    "test_divide(1, 2)"
   ]
  },
  {
   "cell_type": "markdown",
   "id": "1f6e5ddd740cc83f",
   "metadata": {
    "collapsed": false,
    "jupyter": {
     "outputs_hidden": false
    }
   },
   "source": [
    "4. Required arguments: check output\n",
    "\n",
    "    必选参数：查看代码输出"
   ]
  },
  {
   "cell_type": "code",
   "execution_count": 3,
   "id": "abed0a80a96bb2c6",
   "metadata": {
    "collapsed": false,
    "jupyter": {
     "outputs_hidden": false
    }
   },
   "outputs": [
    {
     "name": "stdout",
     "output_type": "stream",
     "text": [
      "0.5\n"
     ]
    }
   ],
   "source": [
    "def test_divide(num1, num2):\n",
    "    print(num1 / num2)\n",
    "\n",
    "test_divide(1, 2)\n",
    "# test_divide(num1=1, num2=2)\n",
    "# test_divide(num2=2, num1=1)"
   ]
  },
  {
   "cell_type": "markdown",
   "id": "55ed64631669b1",
   "metadata": {
    "collapsed": false,
    "jupyter": {
     "outputs_hidden": false
    }
   },
   "source": [
    "5. Optional arguments: check output\n",
    "\n",
    "    可选参数：查看代码输出"
   ]
  },
  {
   "cell_type": "code",
   "execution_count": 4,
   "id": "3a880ac408e55edd",
   "metadata": {
    "collapsed": false,
    "jupyter": {
     "outputs_hidden": false
    }
   },
   "outputs": [
    {
     "name": "stdout",
     "output_type": "stream",
     "text": [
      "2\n",
      "3\n",
      "3\n"
     ]
    }
   ],
   "source": [
    "def test_add(num1, num2=1):\n",
    "    print(num1 + num2)\n",
    "\n",
    "test_add(1)\n",
    "test_add(1, 2)\n",
    "test_add(num1=1, num2=2)"
   ]
  },
  {
   "cell_type": "code",
   "execution_count": 8,
   "id": "c0e82f0032283a6f",
   "metadata": {
    "collapsed": false,
    "jupyter": {
     "outputs_hidden": false
    }
   },
   "outputs": [
    {
     "name": "stdout",
     "output_type": "stream",
     "text": [
      "3\n",
      "3\n",
      "3\n"
     ]
    }
   ],
   "source": [
    "def test_add(num2, num1=1):\n",
    "    print(num1 + num2)\n",
    "\n",
    "test_add(2)\n",
    "test_add(2, 1)\n",
    "test_add(num1=2, num2=1)"
   ]
  },
  {
   "cell_type": "markdown",
   "id": "3db65e08d7867fad",
   "metadata": {
    "collapsed": false,
    "jupyter": {
     "outputs_hidden": false
    }
   },
   "source": [
    "# Return value | 返回值"
   ]
  },
  {
   "cell_type": "markdown",
   "id": "7527001e211c7c78",
   "metadata": {
    "collapsed": false,
    "jupyter": {
     "outputs_hidden": false
    }
   },
   "source": [
    "6. Call a function with no return value\n",
    "\n",
    "    调用一个无返回值的函数"
   ]
  },
  {
   "cell_type": "code",
   "execution_count": 9,
   "id": "aaf3766668672218",
   "metadata": {
    "collapsed": false,
    "jupyter": {
     "outputs_hidden": false
    }
   },
   "outputs": [
    {
     "name": "stdout",
     "output_type": "stream",
     "text": [
      "hello\n",
      "None\n"
     ]
    }
   ],
   "source": [
    "print(print('hello'))"
   ]
  },
  {
   "cell_type": "code",
   "execution_count": null,
   "id": "de514ecd-e39d-4f9d-877d-30703e686e67",
   "metadata": {},
   "outputs": [],
   "source": []
  }
 ],
 "metadata": {
  "kernelspec": {
   "display_name": "Python 3 (ipykernel)",
   "language": "python",
   "name": "python3"
  },
  "language_info": {
   "codemirror_mode": {
    "name": "ipython",
    "version": 3
   },
   "file_extension": ".py",
   "mimetype": "text/x-python",
   "name": "python",
   "nbconvert_exporter": "python",
   "pygments_lexer": "ipython3",
   "version": "3.11.5"
  }
 },
 "nbformat": 4,
 "nbformat_minor": 5
}
