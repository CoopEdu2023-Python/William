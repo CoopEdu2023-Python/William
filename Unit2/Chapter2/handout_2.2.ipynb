{
 "cells": [
  {
   "cell_type": "markdown",
   "id": "d99417c69febcbe8",
   "metadata": {
    "collapsed": false,
    "jupyter": {
     "outputs_hidden": false
    }
   },
   "source": [
    "# Magic Methods | 魔术方法"
   ]
  },
  {
   "cell_type": "markdown",
   "id": "e6e9ce88cdc70bb0",
   "metadata": {
    "collapsed": false,
    "jupyter": {
     "outputs_hidden": false
    }
   },
   "source": [
    "1. What is magic methods?\n",
    "\n",
    "    什么是魔术方法？"
   ]
  },
  {
   "cell_type": "code",
   "execution_count": null,
   "id": "1d4d8e8d93269ac2",
   "metadata": {
    "collapsed": false,
    "jupyter": {
     "outputs_hidden": false
    }
   },
   "outputs": [],
   "source": [
    "# 名字前后都有两个下划线的方法\n",
    "# 进行某些操作时自动执行的函数\n",
    "# functions that automatically invoked in specific operationa or built-in functions"
   ]
  },
  {
   "cell_type": "markdown",
   "id": "5d9986d3f0604fa1",
   "metadata": {
    "collapsed": false,
    "jupyter": {
     "outputs_hidden": false
    }
   },
   "source": [
    "2. Constructor\n",
    "\n",
    "    构造函数"
   ]
  },
  {
   "cell_type": "code",
   "execution_count": 3,
   "id": "initial_id",
   "metadata": {},
   "outputs": [
    {
     "name": "stdout",
     "output_type": "stream",
     "text": [
      "A\n",
      "<class '__main__.A'>\n"
     ]
    }
   ],
   "source": [
    "class A:\n",
    "    def __init__(self):\n",
    "        print(\"A\")\n",
    "\n",
    "\n",
    "a = A()"
   ]
  },
  {
   "cell_type": "markdown",
   "id": "513826e77899179",
   "metadata": {
    "collapsed": false,
    "jupyter": {
     "outputs_hidden": false
    }
   },
   "source": [
    "3. Destructor\n",
    "\n",
    "    析构函数"
   ]
  },
  {
   "cell_type": "code",
   "execution_count": 4,
   "id": "200cfe0b95e7272b",
   "metadata": {
    "collapsed": false,
    "jupyter": {
     "outputs_hidden": false
    }
   },
   "outputs": [
    {
     "name": "stdout",
     "output_type": "stream",
     "text": [
      "dead\n"
     ]
    }
   ],
   "source": [
    "class B:\n",
    "    def __del__(self):\n",
    "        print(\"dead\")\n",
    "\n",
    "\n",
    "b = B()\n",
    "del b"
   ]
  },
  {
   "cell_type": "code",
   "execution_count": 6,
   "id": "2b84c7dd-9eef-475d-97b4-c25c55082b52",
   "metadata": {},
   "outputs": [
    {
     "name": "stdout",
     "output_type": "stream",
     "text": [
      "['__class__', '__del__', '__delattr__', '__dict__', '__dir__', '__doc__', '__eq__', '__format__', '__ge__', '__getattribute__', '__getstate__', '__gt__', '__hash__', '__init__', '__init_subclass__', '__le__', '__lt__', '__module__', '__ne__', '__new__', '__reduce__', '__reduce_ex__', '__repr__', '__setattr__', '__sizeof__', '__str__', '__subclasshook__', '__weakref__']\n"
     ]
    }
   ],
   "source": [
    "print(dir(B))"
   ]
  },
  {
   "cell_type": "markdown",
   "id": "c913627511ee8e90",
   "metadata": {
    "collapsed": false,
    "jupyter": {
     "outputs_hidden": false
    }
   },
   "source": [
    "4. __str__() and __repr__()"
   ]
  },
  {
   "cell_type": "code",
   "execution_count": 17,
   "id": "be3a47b7c8a79a5c",
   "metadata": {
    "collapsed": false,
    "jupyter": {
     "outputs_hidden": false
    }
   },
   "outputs": [
    {
     "name": "stdout",
     "output_type": "stream",
     "text": [
      "class C\n"
     ]
    }
   ],
   "source": [
    "class C:\n",
    "    def str(self):\n",
    "        return 'c'\n",
    "    \n",
    "    def __repr__(self):\n",
    "        return \"class C\"\n",
    "\n",
    "c = C()\n",
    "rc = repr(c)\n",
    "print(rc)\n"
   ]
  },
  {
   "cell_type": "markdown",
   "id": "6e9e7d73c060fde9",
   "metadata": {
    "collapsed": false,
    "jupyter": {
     "outputs_hidden": false
    }
   },
   "source": [
    "5. __lt__(), __le__() and __eq__()"
   ]
  },
  {
   "cell_type": "code",
   "execution_count": 25,
   "id": "1a5557105dcd766d",
   "metadata": {
    "collapsed": false,
    "jupyter": {
     "outputs_hidden": false
    }
   },
   "outputs": [
    {
     "name": "stdout",
     "output_type": "stream",
     "text": [
      "False\n"
     ]
    }
   ],
   "source": [
    "class D:\n",
    "    def __init__(self, n):\n",
    "        self.n = n\n",
    "    \n",
    "    def __lt__(self, other):\n",
    "        return self.n < other.n\n",
    "\n",
    "d1 = D(10)\n",
    "d2 = D(9)\n",
    "print(d1 < d2)"
   ]
  },
  {
   "cell_type": "markdown",
   "id": "ddf1fe1b999e6350",
   "metadata": {
    "collapsed": false,
    "jupyter": {
     "outputs_hidden": false
    }
   },
   "source": [
    "6. __len__()"
   ]
  },
  {
   "cell_type": "code",
   "execution_count": 30,
   "id": "bfa3d4b2b1a33fe",
   "metadata": {
    "collapsed": false,
    "jupyter": {
     "outputs_hidden": false
    }
   },
   "outputs": [
    {
     "name": "stdout",
     "output_type": "stream",
     "text": [
      "10\n"
     ]
    }
   ],
   "source": [
    "class E:\n",
    "    def __len__(self):\n",
    "        return 10\n",
    "\n",
    "\n",
    "print(len(E()))"
   ]
  }
 ],
 "metadata": {
  "kernelspec": {
   "display_name": "Python 3 (ipykernel)",
   "language": "python",
   "name": "python3"
  },
  "language_info": {
   "codemirror_mode": {
    "name": "ipython",
    "version": 3
   },
   "file_extension": ".py",
   "mimetype": "text/x-python",
   "name": "python",
   "nbconvert_exporter": "python",
   "pygments_lexer": "ipython3",
   "version": "3.11.5"
  }
 },
 "nbformat": 4,
 "nbformat_minor": 5
}
