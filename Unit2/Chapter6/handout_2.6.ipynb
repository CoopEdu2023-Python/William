{
 "cells": [
  {
   "cell_type": "markdown",
   "id": "51be4273cf25ca79",
   "metadata": {
    "collapsed": false,
    "jupyter": {
     "outputs_hidden": false
    }
   },
   "source": [
    "# Class Attribute | 类属性"
   ]
  },
  {
   "cell_type": "markdown",
   "id": "dd04b2441b845fce",
   "metadata": {
    "collapsed": false,
    "jupyter": {
     "outputs_hidden": false
    }
   },
   "source": [
    "1. What is the difference between class attribute and instance attribute?<br />\n",
    "    类属性和实例属性的区别？"
   ]
  },
  {
   "cell_type": "code",
   "execution_count": null,
   "id": "initial_id",
   "metadata": {
    "collapsed": true,
    "jupyter": {
     "outputs_hidden": true
    }
   },
   "outputs": [],
   "source": [
    "'''\n",
    "类属性和实例属性在定义、属性和访问方式上有区别：\n",
    "\n",
    "类属性是定义在类中，且与类相关联的属性，它们属于类本身，而不是类的任何特定实例。这意味着无论创建多少个类的实例，它们都会共享相同的类属性。类属性通常位于类的顶部，定义在类的任何方法之外。类属性的一个常见用途是存储与类相关的常量或共享的状态信息。\n",
    "\n",
    "实例属性是与类的每个实例相关联的属性，每个类的实例都可以拥有自己的一组实例属性。实例属性通常在类的构造方法（通常是__init__方法）内定义，并使用self关键字来访问。这意味着一个实例的属性值可以与另一个实例不同，它们互不影响。\n",
    "\n",
    "总的来说，类属性和实例属性主要区别在于它们的属性和访问方式。类属性属于类本身，所有实例共享相同的类属性，常用于存储与类相关的常量或共享的状态信息。实例属性属于每个实例，每个实例都有自己独立的实例属性，常用于存储每个实例特有的数据。\n",
    "'''"
   ]
  },
  {
   "cell_type": "markdown",
   "id": "505a5f7b2821d6df",
   "metadata": {
    "collapsed": false,
    "jupyter": {
     "outputs_hidden": false
    }
   },
   "source": [
    "2. How to define a class attribute?<br />\n",
    "    如何定义类属性？"
   ]
  },
  {
   "cell_type": "code",
   "execution_count": null,
   "id": "c5d9de7b-7a6a-494b-9357-bbcdfefe1fca",
   "metadata": {},
   "outputs": [],
   "source": [
    "class Student:\n",
    "    number = 0\n",
    "\n",
    "    def __init__(self):\n",
    "        self.name = ''\n",
    "        Student.number += 1\n",
    "\n",
    "for i in range(10):\n",
    "    Student()\n",
    "\n",
    "print(Student.number)"
   ]
  },
  {
   "cell_type": "markdown",
   "id": "b3a39549bdffcec7",
   "metadata": {
    "collapsed": false,
    "jupyter": {
     "outputs_hidden": false
    }
   },
   "source": [
    "3. How to access a class attribute?<br />\n",
    "    如何访问类属性？"
   ]
  },
  {
   "cell_type": "code",
   "execution_count": 4,
   "id": "fd0d52fb6a33f3c8",
   "metadata": {
    "collapsed": false,
    "jupyter": {
     "outputs_hidden": false
    }
   },
   "outputs": [
    {
     "name": "stdout",
     "output_type": "stream",
     "text": [
      "1\n",
      "2\n",
      "3\n",
      "4\n",
      "5\n",
      "6\n",
      "7\n",
      "8\n",
      "9\n",
      "10\n",
      "10\n"
     ]
    }
   ],
   "source": [
    "class Student:\n",
    "    number = 0\n",
    "\n",
    "    def __init__(self):\n",
    "        self.name = ''\n",
    "        Student.number += 1\n",
    "\n",
    "for i in range(10):\n",
    "    s = Student()\n",
    "    print(s.number)\n",
    "\n",
    "print(Student.number)"
   ]
  },
  {
   "cell_type": "markdown",
   "id": "a57f950b21efe2a7",
   "metadata": {
    "collapsed": false,
    "jupyter": {
     "outputs_hidden": false
    }
   },
   "source": [
    "4. What if a class attribute and instance attribute have the same name?<br />\n",
    "    如果类属性和实例属性同名，会发生什么？"
   ]
  },
  {
   "cell_type": "code",
   "execution_count": 3,
   "id": "dacfeafe3bcf3ef2",
   "metadata": {
    "collapsed": false,
    "jupyter": {
     "outputs_hidden": false
    }
   },
   "outputs": [
    {
     "name": "stdout",
     "output_type": "stream",
     "text": [
      "1 1 1 1 1 1 1 1 1 1 0\n"
     ]
    }
   ],
   "source": [
    "class Student:\n",
    "    number = 0\n",
    "\n",
    "    def __init__(self):\n",
    "        self.name = ''\n",
    "        self.number = 1\n",
    "\n",
    "for i in range(10):\n",
    "    s = Student()\n",
    "    print(s.number, end=' ')\n",
    "print(Student.number)"
   ]
  },
  {
   "cell_type": "markdown",
   "id": "ec78f3e42cda2752",
   "metadata": {
    "collapsed": false,
    "jupyter": {
     "outputs_hidden": false
    }
   },
   "source": [
    "5. Can a subclass inherit class attributes from a parent class?<br />\n",
    "    子类能否继承父类的类属性？"
   ]
  },
  {
   "cell_type": "code",
   "execution_count": 5,
   "id": "bb8e075803350dd7",
   "metadata": {
    "collapsed": false,
    "jupyter": {
     "outputs_hidden": false
    }
   },
   "outputs": [
    {
     "name": "stdout",
     "output_type": "stream",
     "text": [
      "True\n"
     ]
    }
   ],
   "source": [
    "class A:\n",
    "    a = 1\n",
    "\n",
    "\n",
    "class B(A):\n",
    "    pass\n",
    "\n",
    "\n",
    "print(B.a is A.a)"
   ]
  },
  {
   "cell_type": "markdown",
   "id": "26d4364a0668d72",
   "metadata": {
    "collapsed": false,
    "jupyter": {
     "outputs_hidden": false
    }
   },
   "source": [
    "6. How to modify the value of class attribute by instance?\n",
    "    如何通过实例修改类属性？"
   ]
  },
  {
   "cell_type": "markdown",
   "id": "6da0f634cd8d7c30",
   "metadata": {
    "collapsed": false,
    "jupyter": {
     "outputs_hidden": false
    }
   },
   "source": [
    "class A:\n",
    "    x = 1\n",
    "\n",
    "\n",
    "a = A()\n",
    "a.x = 2"
   ]
  },
  {
   "cell_type": "markdown",
   "id": "abad238acb869fb5",
   "metadata": {
    "collapsed": false,
    "jupyter": {
     "outputs_hidden": false
    }
   },
   "source": [
    "# Class Method | 类方法"
   ]
  },
  {
   "cell_type": "markdown",
   "id": "567f4f2a9821cb10",
   "metadata": {
    "collapsed": false,
    "jupyter": {
     "outputs_hidden": false
    }
   },
   "source": [
    "7. What is the difference between class method and instance method?<br />\n",
    "    类方法和实例方法的区别？"
   ]
  },
  {
   "cell_type": "code",
   "execution_count": null,
   "id": "d042cae36d4e9468",
   "metadata": {
    "collapsed": false,
    "jupyter": {
     "outputs_hidden": false
    }
   },
   "outputs": [],
   "source": [
    "'''\n",
    "类方法和实例方法在Python中具有一些显著的区别。\n",
    "\n",
    "调用方式：类方法可以通过类名直接调用，而实例方法必须先创建实例，然后通过实例调用。\n",
    "内存分配：类方法在类被加载时就会分配入口地址，而实例方法在创建对象后才会分配入口地址。\n",
    "内存位置：类方法在堆上分配内存，而实例方法在堆栈上分配内存。\n",
    "执行效率：由于类方法常驻内存，实例方法不是，所以类方法效率高但占内存。\n",
    "可继承性：类方法不可被继承，因此子类中相同名字的类方法不能覆盖父类的类方法。\n",
    "方法定义：类方法是使用static关键字进行修饰的，实例方法则不需要。\n",
    "访问限制：类方法中不可直接使用实例变量，因为它是与类本身关联的，而不是与特定实例关联的。\n",
    "总的来说，类方法和实例方法在Python中都是非常有用的工具，它们在实现面向对象编程时具有不同的用途和特点。\n",
    "'''"
   ]
  },
  {
   "cell_type": "markdown",
   "id": "72738008c77395e",
   "metadata": {
    "collapsed": false,
    "jupyter": {
     "outputs_hidden": false
    }
   },
   "source": [
    "8. How to define a class method?<br />\n",
    "    如何定义类方法？"
   ]
  },
  {
   "cell_type": "code",
   "execution_count": null,
   "id": "1df14c62086a0323",
   "metadata": {
    "collapsed": false,
    "jupyter": {
     "outputs_hidden": false
    }
   },
   "outputs": [],
   "source": [
    "class A:\n",
    "    @classmethod\n",
    "    def test(cls):\n",
    "        pass"
   ]
  },
  {
   "cell_type": "markdown",
   "id": "73e0590b3631d41f",
   "metadata": {
    "collapsed": false,
    "jupyter": {
     "outputs_hidden": false
    }
   },
   "source": [
    "9. How to call a class method?<br />\n",
    "    如何调用类方法？"
   ]
  },
  {
   "cell_type": "code",
   "execution_count": null,
   "id": "18734d101822615e",
   "metadata": {
    "collapsed": false,
    "jupyter": {
     "outputs_hidden": false
    }
   },
   "outputs": [],
   "source": [
    "class A:\n",
    "    @classmethod\n",
    "    def test(cls):\n",
    "        pass\n",
    "\n",
    "\n",
    "A.test()"
   ]
  },
  {
   "cell_type": "markdown",
   "id": "1fd11fcaabbc8df9",
   "metadata": {
    "collapsed": false,
    "jupyter": {
     "outputs_hidden": false
    }
   },
   "source": [
    "10. What if a class method and instance method have the same name?<br />\n",
    "    如果类方法和实例方法同名，会发生什么？"
   ]
  },
  {
   "cell_type": "code",
   "execution_count": null,
   "id": "d7ce3898e6889e70",
   "metadata": {
    "collapsed": false,
    "jupyter": {
     "outputs_hidden": false
    }
   },
   "outputs": [],
   "source": [
    "class A:\n",
    "    @classmethod\n",
    "    def test(cls):\n",
    "        pass\n",
    "\n",
    "    def test(self):\n",
    "        pass\n",
    "\n",
    "\n",
    "A.test()"
   ]
  },
  {
   "cell_type": "markdown",
   "id": "64d94449c446f320",
   "metadata": {
    "collapsed": false,
    "jupyter": {
     "outputs_hidden": false
    }
   },
   "source": [
    "# Static Method | 静态方法"
   ]
  },
  {
   "cell_type": "markdown",
   "id": "5b98993e58cae50e",
   "metadata": {
    "collapsed": false,
    "jupyter": {
     "outputs_hidden": false
    }
   },
   "source": [
    "11. How to define a static method?<br />\n",
    "    如何定义静态方法？"
   ]
  },
  {
   "cell_type": "code",
   "execution_count": null,
   "id": "a7d15b57db875fa0",
   "metadata": {
    "collapsed": false,
    "jupyter": {
     "outputs_hidden": false
    }
   },
   "outputs": [],
   "source": [
    "class A:\n",
    "    @staticmethod\n",
    "    def test():\n",
    "        pass"
   ]
  },
  {
   "cell_type": "markdown",
   "id": "360d58ee3ef18e66",
   "metadata": {
    "collapsed": false,
    "jupyter": {
     "outputs_hidden": false
    }
   },
   "source": [
    "12. What is the difference between static method and function? Why do we need static method?<br />\n",
    "    静态方法和函数的区别？为什么需要静态方法？"
   ]
  },
  {
   "cell_type": "code",
   "execution_count": null,
   "id": "9e97002cc5b49121",
   "metadata": {
    "collapsed": false,
    "jupyter": {
     "outputs_hidden": false
    }
   },
   "outputs": [],
   "source": [
    "'''\n",
    "类方法和实例方法在Python中具有一些显著的区别。\n",
    "\n",
    "调用方式：类方法可以通过类名直接调用，而实例方法必须先创建实例，然后通过实例调用。\n",
    "内存分配：类方法在类被加载时就会分配入口地址，而实例方法在创建对象后才会分配入口地址。\n",
    "内存位置：类方法在堆上分配内存，而实例方法在堆栈上分配内存。\n",
    "执行效率：由于类方法常驻内存，实例方法不是，所以类方法效率高但占内存。\n",
    "可继承性：类方法不可被继承，因此子类中相同名字的类方法不能覆盖父类的类方法。\n",
    "方法定义：类方法是使用static关键字进行修饰的，实例方法则不需要。\n",
    "访问限制：类方法中不可直接使用实例变量，因为它是与类本身关联的，而不是与特定实例关联的。\n",
    "总的来说，类方法和实例方法在Python中都是非常有用的工具，它们在实现面向对象编程时具有不同的用途和特点。\n",
    "'''"
   ]
  }
 ],
 "metadata": {
  "kernelspec": {
   "display_name": "Python 3 (ipykernel)",
   "language": "python",
   "name": "python3"
  },
  "language_info": {
   "codemirror_mode": {
    "name": "ipython",
    "version": 3
   },
   "file_extension": ".py",
   "mimetype": "text/x-python",
   "name": "python",
   "nbconvert_exporter": "python",
   "pygments_lexer": "ipython3",
   "version": "3.11.5"
  }
 },
 "nbformat": 4,
 "nbformat_minor": 5
}
