{
 "cells": [
  {
   "cell_type": "markdown",
   "id": "8fe7c3830c0fa32f",
   "metadata": {
    "collapsed": false,
    "jupyter": {
     "outputs_hidden": false
    }
   },
   "source": [
    "# Modules | 模块"
   ]
  },
  {
   "cell_type": "markdown",
   "id": "656401c63ce0127e",
   "metadata": {
    "collapsed": false,
    "jupyter": {
     "outputs_hidden": false
    }
   },
   "source": [
    "1. What is a module in Python?\n",
    "\n",
    "    Python 的模块是什么？"
   ]
  },
  {
   "cell_type": "code",
   "execution_count": null,
   "id": "initial_id",
   "metadata": {
    "collapsed": true,
    "jupyter": {
     "outputs_hidden": true
    }
   },
   "outputs": [],
   "source": [
    "# 符合命名规范的python文件"
   ]
  },
  {
   "cell_type": "markdown",
   "id": "9b50b2f784025020",
   "metadata": {
    "collapsed": false,
    "jupyter": {
     "outputs_hidden": false
    }
   },
   "source": [
    "2. Create a module with variables, functions and classes\n",
    "\n",
    "    创建一个包含变量、函数和类的模块"
   ]
  },
  {
   "cell_type": "code",
   "execution_count": null,
   "id": "c0766a6bc10b9c23",
   "metadata": {
    "collapsed": false,
    "jupyter": {
     "outputs_hidden": false
    }
   },
   "outputs": [],
   "source": [
    "# M.py\n",
    "var = 0\n",
    "def func():\n",
    "    pass\n",
    "\n",
    "class C:\n",
    "    pass\n",
    "\n"
   ]
  },
  {
   "cell_type": "markdown",
   "id": "3c9b26b6fe409f61",
   "metadata": {
    "collapsed": false,
    "jupyter": {
     "outputs_hidden": false
    }
   },
   "source": [
    "3. Import variables, functions and classes from a module\n",
    "\n",
    "    从模块中导入变量、函数和类"
   ]
  },
  {
   "cell_type": "code",
   "execution_count": null,
   "id": "5c3c26275203d552",
   "metadata": {
    "collapsed": false,
    "jupyter": {
     "outputs_hidden": false
    }
   },
   "outputs": [],
   "source": [
    "import M\n",
    "\n",
    "\n",
    "print(M.var)"
   ]
  },
  {
   "cell_type": "code",
   "execution_count": null,
   "id": "b28b728b-fd23-42cc-b3f5-3e6344128109",
   "metadata": {},
   "outputs": [],
   "source": [
    "from M import var, func, C\n",
    "\n",
    "print(var)"
   ]
  },
  {
   "cell_type": "code",
   "execution_count": null,
   "id": "18e5524a-4464-4c6e-b639-bcb2924f932d",
   "metadata": {},
   "outputs": [],
   "source": [
    "from M import *"
   ]
  },
  {
   "cell_type": "markdown",
   "id": "e1d671578ee46472",
   "metadata": {
    "collapsed": false,
    "jupyter": {
     "outputs_hidden": false
    }
   },
   "source": [
    "4. What is variable `__name__` used for?"
   ]
  },
  {
   "cell_type": "code",
   "execution_count": null,
   "id": "1691e29ad067858a",
   "metadata": {
    "collapsed": false,
    "jupyter": {
     "outputs_hidden": false
    }
   },
   "outputs": [],
   "source": [
    "def func1():\n",
    "    print(1)\n",
    "\n",
    "def func2():\n",
    "    print(2)\n",
    "\n",
    "if __name__ == '__main__'\n",
    "    func1()\n",
    "\n",
    "func2()"
   ]
  },
  {
   "cell_type": "markdown",
   "id": "461c1928bfcca857",
   "metadata": {
    "collapsed": false,
    "jupyter": {
     "outputs_hidden": false
    }
   },
   "source": [
    "# Packages | 包"
   ]
  },
  {
   "cell_type": "markdown",
   "id": "d541f966518639f3",
   "metadata": {
    "collapsed": false,
    "jupyter": {
     "outputs_hidden": false
    }
   },
   "source": [
    "5. What is a package in Python?\n",
    "\n",
    "    Python 的包是什么？"
   ]
  },
  {
   "cell_type": "code",
   "execution_count": null,
   "id": "7b8be3daed2834e7",
   "metadata": {
    "collapsed": false,
    "jupyter": {
     "outputs_hidden": false
    }
   },
   "outputs": [],
   "source": [
    "# 符合命名规范的文件夹"
   ]
  },
  {
   "cell_type": "markdown",
   "id": "b6281c775c1244e0",
   "metadata": {
    "collapsed": false,
    "jupyter": {
     "outputs_hidden": false
    }
   },
   "source": [
    "6. How to install a third-party package in Python?\n",
    "\n",
    "    如何安装第三方包？"
   ]
  },
  {
   "cell_type": "code",
   "execution_count": null,
   "id": "ee50c276b7a147ad",
   "metadata": {
    "collapsed": false,
    "jupyter": {
     "outputs_hidden": false
    }
   },
   "outputs": [],
   "source": [
    "# pip install package_name"
   ]
  }
 ],
 "metadata": {
  "kernelspec": {
   "display_name": "Python 3 (ipykernel)",
   "language": "python",
   "name": "python3"
  },
  "language_info": {
   "codemirror_mode": {
    "name": "ipython",
    "version": 3
   },
   "file_extension": ".py",
   "mimetype": "text/x-python",
   "name": "python",
   "nbconvert_exporter": "python",
   "pygments_lexer": "ipython3",
   "version": "3.11.5"
  }
 },
 "nbformat": 4,
 "nbformat_minor": 5
}
