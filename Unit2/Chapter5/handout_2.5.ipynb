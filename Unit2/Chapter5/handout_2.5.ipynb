{
 "cells": [
  {
   "cell_type": "markdown",
   "id": "3d42146d65d85f8a",
   "metadata": {
    "collapsed": false,
    "jupyter": {
     "outputs_hidden": false
    }
   },
   "source": [
    "# Polymorphism | 多态"
   ]
  },
  {
   "cell_type": "markdown",
   "id": "67930e73d9e07c9c",
   "metadata": {
    "collapsed": false,
    "jupyter": {
     "outputs_hidden": false
    }
   },
   "source": [
    "1. What is polymorphism?<br />\n",
    "    什么是多态？"
   ]
  },
  {
   "cell_type": "code",
   "execution_count": null,
   "id": "initial_id",
   "metadata": {
    "collapsed": true,
    "jupyter": {
     "outputs_hidden": true
    }
   },
   "outputs": [],
   "source": [
    "# 多种状态，即完成某个行为时，使用不同的对象会得到不同的状态。"
   ]
  },
  {
   "cell_type": "markdown",
   "id": "103407dec5fbdf01",
   "metadata": {
    "collapsed": false,
    "jupyter": {
     "outputs_hidden": false
    }
   },
   "source": [
    "# Duck Typing | 鸭子类型"
   ]
  },
  {
   "cell_type": "markdown",
   "id": "ac62cac408d28822",
   "metadata": {
    "collapsed": false,
    "jupyter": {
     "outputs_hidden": false
    }
   },
   "source": [
    "2. What is duck typing?<br />\n",
    "    什么是鸭子类型？"
   ]
  },
  {
   "cell_type": "code",
   "execution_count": null,
   "id": "437bc77713d0cec2",
   "metadata": {
    "collapsed": false,
    "jupyter": {
     "outputs_hidden": false
    }
   },
   "outputs": [],
   "source": [
    "'''\n",
    "鸭子类型（英语：duck typing）是动态类型的一种风格。在这种风格中，一个对象有效的语义，不是由继承自特定的类或实现特定的接口，而是由当前方法和属性的集合决定。这个概念的名字来源于由James Whitcomb Riley提出的鸭子测试，“鸭子测试”可以这样表述： “当看到一只鸟走起来像鸭子、游泳起来像鸭子、叫起来也像鸭子，那么这只鸟就可以被称为鸭子。”在鸭子类型中，关注点在于对象的行为，能作什么；而不是关注对象所属的类型。\n",
    "'''\n",
    "class Duck:\n",
    "    def quack(self):\n",
    "        print(\"Quack!\")\n",
    "\n",
    "class Turkey:\n",
    "    def gobble(self):\n",
    "        print(\"Gobble!\")\n",
    "\n",
    "def speak(duck):\n",
    "    duck.quack()\n",
    "\n",
    "turkey = Turkey()\n",
    "speak(turkey)"
   ]
  }
 ],
 "metadata": {
  "kernelspec": {
   "display_name": "Python 3 (ipykernel)",
   "language": "python",
   "name": "python3"
  },
  "language_info": {
   "codemirror_mode": {
    "name": "ipython",
    "version": 3
   },
   "file_extension": ".py",
   "mimetype": "text/x-python",
   "name": "python",
   "nbconvert_exporter": "python",
   "pygments_lexer": "ipython3",
   "version": "3.11.5"
  }
 },
 "nbformat": 4,
 "nbformat_minor": 5
}
