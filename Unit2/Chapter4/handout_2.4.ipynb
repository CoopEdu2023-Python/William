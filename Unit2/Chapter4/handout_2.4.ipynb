{
 "cells": [
  {
   "cell_type": "markdown",
   "id": "461c33c492c4e295",
   "metadata": {
    "collapsed": false,
    "jupyter": {
     "outputs_hidden": false
    }
   },
   "source": [
    "# Inheritance | 继承"
   ]
  },
  {
   "cell_type": "markdown",
   "id": "73e9aaf4984897b9",
   "metadata": {
    "collapsed": false,
    "jupyter": {
     "outputs_hidden": false
    }
   },
   "source": [
    "1. Basic of inheritance.<br />\n",
    "    单继承的基本特点"
   ]
  },
  {
   "cell_type": "code",
   "execution_count": 5,
   "id": "initial_id",
   "metadata": {},
   "outputs": [
    {
     "name": "stdout",
     "output_type": "stream",
     "text": [
      "1 1 1 1\n"
     ]
    }
   ],
   "source": [
    "class A():\n",
    "    def __init__(self):\n",
    "        self.x = 1\n",
    "        self.__y = 1\n",
    "    \n",
    "    def test(self):\n",
    "        pass\n",
    "\n",
    "class B(A):\n",
    "    pass\n",
    "\n",
    "print(A().x, A()._A__y, B().x, B()._A__y)"
   ]
  },
  {
   "cell_type": "markdown",
   "id": "9d162dabaecb748a",
   "metadata": {
    "collapsed": false,
    "jupyter": {
     "outputs_hidden": false
    }
   },
   "source": [
    "2. Transitivity of inheritance.<br />\n",
    "    继承的传递性"
   ]
  },
  {
   "cell_type": "code",
   "execution_count": 6,
   "id": "b651b1483a1ffa87",
   "metadata": {
    "collapsed": false,
    "jupyter": {
     "outputs_hidden": false
    }
   },
   "outputs": [
    {
     "name": "stdout",
     "output_type": "stream",
     "text": [
      "1\n",
      "1\n",
      "2\n",
      "1\n",
      "2\n",
      "3\n"
     ]
    }
   ],
   "source": [
    "class A:\n",
    "    def __init__(self):\n",
    "        self.x = 1\n",
    "        self.y = 2\n",
    "        self.z = 3\n",
    "    \n",
    "    def get_x(self):\n",
    "        print(self.x)\n",
    "\n",
    "class B(A):\n",
    "    def get_y(self):\n",
    "        print(self.y)\n",
    "\n",
    "class C(B):\n",
    "    def get_z(self):\n",
    "        print(self.z)\n",
    "\n",
    "A().get_x()\n",
    "B().get_x()\n",
    "B().get_y()\n",
    "C().get_x()\n",
    "C().get_y()\n",
    "C().get_z()"
   ]
  },
  {
   "cell_type": "markdown",
   "id": "b18b3a4c6fbb5f02",
   "metadata": {
    "collapsed": false,
    "jupyter": {
     "outputs_hidden": false
    }
   },
   "source": [
    "3. Overriding a method in a subclass.<br />\n",
    "    在子类中重写父类的方法"
   ]
  },
  {
   "cell_type": "code",
   "execution_count": 7,
   "id": "d68130fa48bf504c",
   "metadata": {
    "collapsed": false,
    "jupyter": {
     "outputs_hidden": false
    }
   },
   "outputs": [
    {
     "name": "stdout",
     "output_type": "stream",
     "text": [
      "Animal\n",
      "Dog\n",
      "Cat\n"
     ]
    }
   ],
   "source": [
    "class Animal:\n",
    "    def speak(self):\n",
    "        print('Animal')\n",
    "\n",
    "class Dog(Animal):\n",
    "    def speak(self):\n",
    "        print('Dog')\n",
    "        \n",
    "class Cat(Dog):\n",
    "    def speak(self):\n",
    "        print('Cat')\n",
    "\n",
    "Animal().speak()\n",
    "Dog().speak()\n",
    "Cat().speak()"
   ]
  },
  {
   "cell_type": "markdown",
   "id": "9e10fface17b9cf7",
   "metadata": {
    "collapsed": false,
    "jupyter": {
     "outputs_hidden": false
    }
   },
   "source": [
    "4. Call parent method in subclass.<br />\n",
    "    在子类中调用父类方法"
   ]
  },
  {
   "cell_type": "code",
   "execution_count": null,
   "id": "4ccc72b66cdb0ef4",
   "metadata": {
    "collapsed": false,
    "jupyter": {
     "outputs_hidden": false
    }
   },
   "outputs": [],
   "source": [
    "class A:\n",
    "    def __init__(self):\n",
    "        self.x = 1\n",
    "\n",
    "class B(A):\n",
    "    def __init__(self):\n",
    "        super().__init__(self)"
   ]
  },
  {
   "cell_type": "markdown",
   "id": "74b3b835fbe56301",
   "metadata": {
    "collapsed": false,
    "jupyter": {
     "outputs_hidden": false
    }
   },
   "source": [
    "5. Determine whether the method overridden in a subclass will override the parent class method.<br />\n",
    "    探究子类重写的方法是否会覆盖父类方法"
   ]
  },
  {
   "cell_type": "code",
   "execution_count": 1,
   "id": "c1fe11f79a296af6",
   "metadata": {
    "collapsed": false,
    "jupyter": {
     "outputs_hidden": false
    }
   },
   "outputs": [
    {
     "name": "stdout",
     "output_type": "stream",
     "text": [
      "Dog\n"
     ]
    }
   ],
   "source": [
    "class Animal:\n",
    "    def go(self):\n",
    "        print('animal')\n",
    "\n",
    "    def run(self):\n",
    "        self.go()\n",
    "\n",
    "class Dog(Animal):\n",
    "    def go(self):\n",
    "        print('Dog')\n",
    "\n",
    "dog = Dog()\n",
    "dog.run()"
   ]
  },
  {
   "cell_type": "markdown",
   "id": "9bdc691a3e102af6",
   "metadata": {
    "collapsed": false,
    "jupyter": {
     "outputs_hidden": false
    }
   },
   "source": [
    "6. Overriding a method in a subclass.<br />\n",
    "    在子类中重写父类的私有方法"
   ]
  },
  {
   "cell_type": "code",
   "execution_count": 5,
   "id": "a323bc44f6bcd1b1",
   "metadata": {
    "collapsed": false,
    "jupyter": {
     "outputs_hidden": false
    }
   },
   "outputs": [
    {
     "ename": "AttributeError",
     "evalue": "'super' object has no attribute '_B__test'",
     "output_type": "error",
     "traceback": [
      "\u001b[1;31m---------------------------------------------------------------------------\u001b[0m",
      "\u001b[1;31mAttributeError\u001b[0m                            Traceback (most recent call last)",
      "Cell \u001b[1;32mIn[5], line 13\u001b[0m\n\u001b[0;32m     10\u001b[0m     \u001b[38;5;28;01mdef\u001b[39;00m \u001b[38;5;21mtest\u001b[39m(\u001b[38;5;28mself\u001b[39m):\n\u001b[0;32m     11\u001b[0m         \u001b[38;5;28mself\u001b[39m\u001b[38;5;241m.\u001b[39m__test()\n\u001b[1;32m---> 13\u001b[0m \u001b[43mB\u001b[49m\u001b[43m(\u001b[49m\u001b[43m)\u001b[49m\u001b[38;5;241;43m.\u001b[39;49m\u001b[43mtest\u001b[49m\u001b[43m(\u001b[49m\u001b[43m)\u001b[49m\n",
      "Cell \u001b[1;32mIn[5], line 11\u001b[0m, in \u001b[0;36mB.test\u001b[1;34m(self)\u001b[0m\n\u001b[0;32m     10\u001b[0m \u001b[38;5;28;01mdef\u001b[39;00m \u001b[38;5;21mtest\u001b[39m(\u001b[38;5;28mself\u001b[39m):\n\u001b[1;32m---> 11\u001b[0m     \u001b[38;5;28;43mself\u001b[39;49m\u001b[38;5;241;43m.\u001b[39;49m\u001b[43m__test\u001b[49m\u001b[43m(\u001b[49m\u001b[43m)\u001b[49m\n",
      "Cell \u001b[1;32mIn[5], line 7\u001b[0m, in \u001b[0;36mB.__test\u001b[1;34m(self)\u001b[0m\n\u001b[0;32m      6\u001b[0m \u001b[38;5;28;01mdef\u001b[39;00m \u001b[38;5;21m__test\u001b[39m(\u001b[38;5;28mself\u001b[39m):\n\u001b[1;32m----> 7\u001b[0m     \u001b[38;5;28;43msuper\u001b[39;49m\u001b[43m(\u001b[49m\u001b[43m)\u001b[49m\u001b[38;5;241;43m.\u001b[39;49m\u001b[43m__test\u001b[49m()\n\u001b[0;32m      8\u001b[0m     \u001b[38;5;28mprint\u001b[39m(\u001b[38;5;241m1\u001b[39m)\n",
      "\u001b[1;31mAttributeError\u001b[0m: 'super' object has no attribute '_B__test'"
     ]
    }
   ],
   "source": [
    "class A:\n",
    "    def __test(self):\n",
    "        pass\n",
    "\n",
    "class B(A):\n",
    "    def __test(self):\n",
    "        super().__test()\n",
    "        print(1)\n",
    "\n",
    "    def test(self):\n",
    "        self.__test()\n",
    "\n",
    "B().test()"
   ]
  },
  {
   "cell_type": "markdown",
   "id": "39883c6823c102e1",
   "metadata": {
    "collapsed": false,
    "jupyter": {
     "outputs_hidden": false
    }
   },
   "source": [
    "7. Basic of multi-Inheritance.<br />\n",
    "    多继承的基本特点"
   ]
  },
  {
   "cell_type": "code",
   "execution_count": 16,
   "id": "51af3a314e4461ee",
   "metadata": {
    "collapsed": false,
    "jupyter": {
     "outputs_hidden": false
    }
   },
   "outputs": [
    {
     "name": "stdout",
     "output_type": "stream",
     "text": [
      "1 1\n"
     ]
    }
   ],
   "source": [
    "class A:\n",
    "    def __init__(self):\n",
    "        self.x = 1\n",
    "\n",
    "class B:\n",
    "    def __init__(self):\n",
    "        self.y = 1\n",
    "\n",
    "class C(A, B):\n",
    "    def __init__(self):\n",
    "        A.__init__(self)\n",
    "        B.__init__(self)\n",
    "\n",
    "c = C()\n",
    "print(c.x, c.y)"
   ]
  },
  {
   "cell_type": "markdown",
   "id": "cdb4953a22d6b720",
   "metadata": {
    "collapsed": false,
    "jupyter": {
     "outputs_hidden": false
    }
   },
   "source": [
    "8. Precedence of attributes and methods with the same name in multiple inheritance.<br />\n",
    "    多继承中，同名属性和方法的优先级"
   ]
  },
  {
   "cell_type": "code",
   "execution_count": 13,
   "id": "83745e7cd7d58a16",
   "metadata": {
    "collapsed": false,
    "jupyter": {
     "outputs_hidden": false
    }
   },
   "outputs": [
    {
     "name": "stdout",
     "output_type": "stream",
     "text": [
      "1 1\n"
     ]
    }
   ],
   "source": [
    "class A:\n",
    "    def __init__(self):\n",
    "        self.x = 1\n",
    "\n",
    "class B:\n",
    "    def __init__(self):\n",
    "        self.y = 1\n",
    "\n",
    "class C(A, B):\n",
    "    def __init__(self):\n",
    "        A.__init__(self)\n",
    "        B.__init__(self)\n",
    "\n",
    "c = C()\n",
    "print(c.x, c.y)"
   ]
  },
  {
   "cell_type": "code",
   "execution_count": null,
   "id": "98d0e35d-e6a7-4863-9cb6-df2e41a2392c",
   "metadata": {},
   "outputs": [],
   "source": []
  }
 ],
 "metadata": {
  "kernelspec": {
   "display_name": "Python 3 (ipykernel)",
   "language": "python",
   "name": "python3"
  },
  "language_info": {
   "codemirror_mode": {
    "name": "ipython",
    "version": 3
   },
   "file_extension": ".py",
   "mimetype": "text/x-python",
   "name": "python",
   "nbconvert_exporter": "python",
   "pygments_lexer": "ipython3",
   "version": "3.11.5"
  }
 },
 "nbformat": 4,
 "nbformat_minor": 5
}
